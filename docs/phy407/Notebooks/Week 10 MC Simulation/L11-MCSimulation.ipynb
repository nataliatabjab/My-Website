{
 "cells": [
  {
   "cell_type": "markdown",
   "metadata": {},
   "source": [
    "# Global Optimization Problems"
   ]
  },
  {
   "cell_type": "markdown",
   "metadata": {},
   "source": [
    "Previously we covered ways of finding local minima, which worked well if we had one, well-bracketed minimum. How about multiple local minima?"
   ]
  },
  {
   "cell_type": "markdown",
   "metadata": {},
   "source": [
    "## Simulated Annealing"
   ]
  },
  {
   "cell_type": "markdown",
   "metadata": {},
   "source": [
    "Using Monte Carlo simulations to find **global** minima/maxima."
   ]
  },
  {
   "cell_type": "markdown",
   "metadata": {},
   "source": [
    "### Annealing in Physical Systems"
   ]
  },
  {
   "cell_type": "markdown",
   "metadata": {},
   "source": [
    "For a physical system in equilibrium at temperature $T$, the probability that at any moment the system is in a state $i$ is given by the Boltzmann probability\n",
    "$$  P(E_i) = \\frac{\\exp\\left(-\\beta E_i\\right)}{Z}$$\n",
    "with $Z = \\sum_i\\exp\\left(-\\beta E_i\\right)$ and $\\beta = \\frac{1}{k_B T}$.\n",
    "\n",
    "Assume the system has a single unique ground state. Choose the energy scale so that $E_0 = 0$ in the ground state, and $E_i > 0$ for all other states.\n",
    "\n",
    "As the system cools down, $T\\rightarrow\\,0$, $\\beta \\rightarrow\\, \\infty$, and $\\exp(-\\beta E_i) \\rightarrow 0$ *except* for the ground state where $\\exp(-\\beta E_0) = 1$.\n",
    "Thus in this limit $Z=1$ and\n",
    "\\begin{equation}\n",
    "  P=\\left\\{\n",
    "    \\begin{array}{@{}ll@{}}\n",
    "      1, & E_i = 0 \\\\\n",
    "      0, & E_i > 0\n",
    "    \\end{array}\\right.\n",
    "\\end{equation}\n",
    "This is just a way of saying that at absolute zero, the system will definitely be in the ground state."
   ]
  },
  {
   "cell_type": "markdown",
   "metadata": {
    "tags": []
   },
   "source": [
    "### Concept of the algorithm"
   ]
  },
  {
   "cell_type": "markdown",
   "metadata": {},
   "source": [
    "* A computational strategy for finding the ground state of a system would be: simulate the system at temperature $T$ using the Markov chain Monte Carlo method, then lower the temperature to 0 and the system should find the ground state.\n",
    "* This approach can be used to find the minimum of any function $f$ by treating the independent variables as defining a state of the system, and $f$ as being the energy of that system.\n",
    "\n",
    "* A complication happens if the system finds itself in a local minimum of the energy\n",
    "  * All proposed Monte Carlo moves will be to states with higher energy\n",
    "  * If we set $T = 0$ the acceptance probability becomes 0 for every move, so the system will never escape the local minimum\n",
    "* To get around this, we need to cool the system slowly by gradually lowering the temperature rather than setting it directly to 0\n",
    "  * This way, the system has time to explore many microstates and find a good approximation to the global minimum.\n",
    "\n",
    "**Perform a Monte Carlo simulation of the system and slowly lower the temperature until the state stops changing. Our estimate of the global minimum is the final state in which the system comes to rest!**"
   ]
  },
  {
   "cell_type": "markdown",
   "metadata": {
    "slideshow": {
     "slide_type": "subslide"
    }
   },
   "source": [
    "\n",
    "* Visual Analogy: particle in a bumpy potential.\n",
    "    * Too low energy: get stuck in nearest local minimum.\n",
    "    * Keep low energy but allow some random 'kicks' in energy: can kick out of local minimum and continue heading to global minimum\n",
    "    * ![hill](Hill_Climbing_with_Simulated_Annealing.png)\n",
    "\n",
    "       (https://commons.wikimedia.org/wiki/File:Hill_Climbing_with_Simulated_Annealing.gif)"
   ]
  },
  {
   "cell_type": "markdown",
   "metadata": {},
   "source": [
    "### Implementation Details"
   ]
  },
  {
   "cell_type": "markdown",
   "metadata": {},
   "source": [
    "* For efficiency, pick the initial temperature such that $\\beta(E_j-E_i) \\ll 1$\n",
    "  * Most moves will be accepted, so the state of the system will be rapidly randomized no matter what the starting state.\n",
    "* Choose a cooling rate, typically exponential, such as $$ T = T_0 \\exp\\left(-\\frac{t}{\\tau}\\right) $$ where $T_0$ is initial temperature and $\\tau$ is the time constant.\n",
    "   * Some trial and error is needed in picking $\\tau$\n",
    "   * The larger the value, the better the results because of slower cooling\n",
    "   * The larger the value, the longer it takes the system to reach the ground state"
   ]
  },
  {
   "cell_type": "markdown",
   "metadata": {
    "tags": []
   },
   "source": [
    "### Simple Example"
   ]
  },
  {
   "cell_type": "markdown",
   "metadata": {},
   "source": [
    "Consider the function $$f(x,y) = x^2 - \\cos(4\\pi x) + (y-1)^2$$\n",
    "Let's show the global minimum of this function is at $(x, y) = (0, 1)$.\n",
    "* Pick a reasonable guess for a starting point in $(x, y)$\n",
    "* Use  moves of the form $(x, y) \\rightarrow (x + \\delta x, y + \\delta y) $, where $\\delta x$ and $\\delta y$ are random numbers drawn from a Gaussian distribution with mean 0 and standard deviation 1. \n",
    "    * See textbook Section 10.1.6 for how to generate Gaussian random numbers\n",
    "* Use an exponential cooling schedule and adjust the start and end temperatures, as well as the exponential constant, until we find values that give good answers in reasonable time."
   ]
  },
  {
   "cell_type": "code",
   "execution_count": 1,
   "metadata": {},
   "outputs": [],
   "source": [
    "import numpy as np\n",
    "import matplotlib.pyplot as plt"
   ]
  },
  {
   "cell_type": "code",
   "execution_count": 2,
   "metadata": {
    "tags": []
   },
   "outputs": [],
   "source": [
    "def f(x_, y_):\n",
    "    \"\"\" The function to find the global minimum of \"\"\"\n",
    "    return x_**2 - np.cos(4*np.pi*x_) + (y_-1)**2"
   ]
  },
  {
   "cell_type": "code",
   "execution_count": 3,
   "metadata": {
    "tags": []
   },
   "outputs": [],
   "source": [
    "def draw_normal(sigma):\n",
    "    \"\"\" Draw two random numberd from a normal distribution of zero mean and\n",
    "    standard dev sigma. From Newman section 10.1.6 \"\"\"\n",
    "    theta = 2*np.pi*np.random.random()\n",
    "    z = np.random.random()\n",
    "    r = (-2*sigma**2 * np.log(1 - z))**.5\n",
    "    return r*np.cos(theta), r*np.sin(theta)"
   ]
  },
  {
   "cell_type": "code",
   "execution_count": 4,
   "metadata": {
    "tags": []
   },
   "outputs": [],
   "source": [
    "def getTemp(T0, tau, t):\n",
    "    return T0*np.exp(-t/tau)\n",
    "\n",
    "def decide (newVal, oldVal, temp):\n",
    "    if np.random.random() > np.exp(-(newVal-oldVal)/temp):\n",
    "        return 0 #reject\n",
    "    return 1 #accept"
   ]
  },
  {
   "cell_type": "code",
   "execution_count": 5,
   "metadata": {
    "tags": []
   },
   "outputs": [],
   "source": [
    "# set parameters and initial values\n",
    "tau = 10000  # cooling schedule\n",
    "Tstart = 1.  # initial temperature\n",
    "Tfinal = 0.001  # final temperature\n",
    "Xstart = 2.\n",
    "Ystart = 2."
   ]
  },
  {
   "cell_type": "code",
   "execution_count": 6,
   "metadata": {
    "tags": []
   },
   "outputs": [
    {
     "name": "stdout",
     "output_type": "stream",
     "text": [
      "The global minimum is estimated to be at (x, y) = (0.00032402702266829883, 0.9943090840068576)\n",
      "    f(0.00, 0.99) = -1.00\n"
     ]
    }
   ],
   "source": [
    "x, y = [], []  # positions\n",
    "x.append(Xstart)\n",
    "y.append(Ystart)\n",
    "T = Tstart #temperature\n",
    "time = 0\n",
    "\n",
    "while T > Tfinal:\n",
    "    time += 1\n",
    "    T = getTemp(Tstart,tau,time)\n",
    "    dx, dy = draw_normal(1.)\n",
    "    xnew, ynew = x[-1]+dx, y[-1]+dy\n",
    "    if decide(f(xnew, ynew), f(x[-1], y[-1]), T):\n",
    "        # accept\n",
    "        x.append(xnew)\n",
    "        y.append(ynew)\n",
    "    else:\n",
    "        # reject\n",
    "        x.append(x[-1])\n",
    "        y.append(y[-1])\n",
    "\n",
    "        \n",
    "print(\"The global minimum is estimated to be at (x, y) = ({0}, {1})\"\n",
    "      .format(x[-1], y[-1]))\n",
    "print(\"    f({0:.2f}, {1:.2f}) = {2:.2f}\".format(\n",
    "        x[-1], y[-1], f(x[-1], y[-1])))"
   ]
  },
  {
   "cell_type": "code",
   "execution_count": 8,
   "metadata": {
    "tags": []
   },
   "outputs": [
    {
     "data": {
      "image/png": "[encoded data removed]",
      "text/plain": [
       "<Figure size 640x480 with 2 Axes>"
      ]
     },
     "metadata": {},
     "output_type": "display_data"
    }
   ],
   "source": [
    "plt.figure(3)\n",
    "plt.subplot(2, 1, 1)\n",
    "plt.plot(x, '.')\n",
    "plt.grid()\n",
    "plt.ylabel('$x$')\n",
    "\n",
    "plt.subplot(2, 1, 2)\n",
    "plt.plot(y, '.')\n",
    "plt.xlabel(\"Timesteps\")\n",
    "plt.ylabel(\"$y$\")\n",
    "plt.grid()\n"
   ]
  },
  {
   "cell_type": "markdown",
   "metadata": {},
   "source": [
    "### More Complicated Example"
   ]
  },
  {
   "cell_type": "markdown",
   "metadata": {},
   "source": [
    "Now try\n",
    "$$f(x,y) = \\cos x + \\cos(\\sqrt{2} x) + \\cos(\\sqrt{3}x) + (y-1)^2 $$ in the range $0<x<50$, $-20<y<20$ (this means we should reject $(x, y)$ values outside these ranges.)\n",
    "\n",
    "There are 3 competing minima, all with $y=1:~x \\approx 2,~16,~42$"
   ]
  },
  {
   "cell_type": "code",
   "execution_count": 9,
   "metadata": {
    "tags": []
   },
   "outputs": [],
   "source": [
    "def f(x_, y_):\n",
    "    \"\"\" The function to find the global minimum of \"\"\"\n",
    "    return np.cos(x_) + np.cos(2**.5 * x_) + np.cos(3**.5 * x_) + (y_-1)**2"
   ]
  },
  {
   "cell_type": "code",
   "execution_count": 12,
   "metadata": {
    "tags": []
   },
   "outputs": [],
   "source": [
    "# params and initial values\n",
    "tau = 200000\n",
    "Tstart = 5.\n",
    "Xstart = 43.\n",
    "Ystart = 2.\n",
    "Tfinal = 0.0001 "
   ]
  },
  {
   "cell_type": "code",
   "execution_count": 13,
   "metadata": {
    "tags": []
   },
   "outputs": [
    {
     "name": "stdout",
     "output_type": "stream",
     "text": [
      "The global minimum is estimated to be at (x, y) = (15.958405480412887, 0.9969582461027124)\n",
      "    f(15.96, 1.00) = -2.61\n"
     ]
    }
   ],
   "source": [
    "#this cell copied from previous section\n",
    "\n",
    "x, y = [], []  # positions\n",
    "x.append(Xstart)\n",
    "y.append(Ystart)\n",
    "T = Tstart #temperature\n",
    "time = 0\n",
    "\n",
    "#while time < 100000:\n",
    "while T > Tfinal:\n",
    "    time += 1\n",
    "    T = getTemp(Tstart,tau,time)\n",
    "    dx, dy = draw_normal(1.)\n",
    "    xnew, ynew = x[-1]+dx, y[-1]+dy\n",
    "    if (xnew <= 0 or xnew >= 50 or ynew <= -20 or ynew >= 20): # new code for boundaries\n",
    "        # reject\n",
    "        x.append(x[-1])\n",
    "        y.append(y[-1])\n",
    "    else:\n",
    "        if decide(f(xnew, ynew), f(x[-1], y[-1]), T):\n",
    "            # accept\n",
    "            x.append(xnew)\n",
    "            y.append(ynew)\n",
    "        else:\n",
    "            # reject\n",
    "            x.append(x[-1])\n",
    "            y.append(y[-1])\n",
    "\n",
    "        \n",
    "print(\"The global minimum is estimated to be at (x, y) = ({0}, {1})\"\n",
    "      .format(x[-1], y[-1]))\n",
    "print(\"    f({0:.2f}, {1:.2f}) = {2:.2f}\".format(\n",
    "        x[-1], y[-1], f(x[-1], y[-1])))"
   ]
  },
  {
   "cell_type": "markdown",
   "metadata": {},
   "source": [
    "### SciPy Implementation"
   ]
  },
  {
   "cell_type": "markdown",
   "metadata": {
    "cell_style": "split",
    "slideshow": {
     "slide_type": "subslide"
    }
   },
   "source": [
    "SciPy can do Simulated Annealing (https://en.wikipedia.org/wiki/Simulated_annealing) via the dual_annealing() function (https://docs.scipy.org/doc/scipy/reference/generated/scipy.optimize.dual_annealing.html).\n",
    "\n",
    "It returns an OptimizeResult object (https://docs.scipy.org/doc/scipy/reference/generated/scipy.optimize.OptimizeResult.html) that summarizes the success or failure of the search and the details of the solution if found.\n",
    "\n",
    "See how much faster it runs, because of various memory-management tricks it uses..."
   ]
  },
  {
   "cell_type": "code",
   "execution_count": 14,
   "metadata": {
    "tags": []
   },
   "outputs": [
    {
     "name": "stdout",
     "output_type": "stream",
     "text": [
      "Status : ['Maximum number of iteration reached']\n",
      "Total Evaluations: 4061\n",
      "Solution: f([15.95950602  1.00000189]) = -2.61259\n"
     ]
    }
   ],
   "source": [
    "from scipy.optimize import dual_annealing\n",
    "\n",
    "# The function to minimize must take one argument, which is a vector. in this case, represents [x,y]\n",
    "def fForSciPy(v):\n",
    "    x_ = v[0]\n",
    "    y_ = v[1]\n",
    "    return f(x_, y_)\n",
    "\n",
    "# The bounds must be defined in an array of 2-component vectors: [[x_min, x_max], [y_min, y_max]]\n",
    "bounds = [[0., 50.], [-20., 20.]]\n",
    "\n",
    "# perform the simulated annealing search\n",
    "result = dual_annealing(fForSciPy, bounds)\n",
    "\n",
    "# summarize the result\n",
    "print('Status : %s' % result['message'])\n",
    "print('Total Evaluations: %d' % result['nfev'])\n",
    "# evaluate solution\n",
    "solution = result['x']\n",
    "evaluation = fForSciPy(solution)\n",
    "print('Solution: f(%s) = %.5f' % (solution, evaluation))"
   ]
  },
  {
   "cell_type": "markdown",
   "metadata": {},
   "source": [
    "## Other Optimization Methods: available in SciPy"
   ]
  },
  {
   "cell_type": "markdown",
   "metadata": {},
   "source": [
    "Basin-hopping: https://en.wikipedia.org/wiki/Basin-hopping , https://docs.scipy.org/doc/scipy/reference/generated/scipy.optimize.basinhopping.html\n",
    "\n",
    "Differential Evolution: https://en.wikipedia.org/wiki/Differential_evolution , https://docs.scipy.org/doc/scipy/reference/generated/scipy.optimize.differential_evolution.html"
   ]
  },
  {
   "cell_type": "markdown",
   "metadata": {},
   "source": [
    "Specifically for sequence optimization: https://docs.scipy.org/doc/scipy/reference/generated/scipy.optimize.shgo.html \n",
    "\n",
    "Specifically for grid search optimization: https://docs.scipy.org/doc/scipy/reference/generated/scipy.optimize.brute.html "
   ]
  },
  {
   "cell_type": "code",
   "execution_count": null,
   "metadata": {},
   "outputs": [],
   "source": []
  }
 ],
 "metadata": {
  "celltoolbar": "Slideshow",
  "kernelspec": {
   "display_name": "Python 3 (ipykernel)",
   "language": "python",
   "name": "python3"
  },
  "language_info": {
   "codemirror_mode": {
    "name": "ipython",
    "version": 3
   },
   "file_extension": ".py",
   "mimetype": "text/x-python",
   "name": "python",
   "nbconvert_exporter": "python",
   "pygments_lexer": "ipython3",
   "version": "3.10.9"
  }
 },
 "nbformat": 4,
 "nbformat_minor": 4
}
