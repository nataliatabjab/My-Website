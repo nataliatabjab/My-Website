{
 "cells": [
  {
   "cell_type": "markdown",
   "metadata": {
    "slideshow": {
     "slide_type": "slide"
    }
   },
   "source": [
    "*Supporting textbook chapters for week 8: Chapters 9.1 - 9.3* \n",
    "\n",
    "Topics:\n",
    "* Classifying PDEs\n",
    "* Elliptic equation solvers: Jacobi, Gauss-Seidel, overrelaxation\n",
    "* Parabolic equation solver: Explicit FTCS (Forward Time, Centered Space)\n",
    "* Parabolic and hyperbolic equation soliver: Implicit FTCS, Crank-Nicolson"
   ]
  },
  {
   "cell_type": "markdown",
   "metadata": {},
   "source": [
    "# Classification and General Approach"
   ]
  },
  {
   "cell_type": "markdown",
   "metadata": {
    "slideshow": {
     "slide_type": "subslide"
    }
   },
   "source": [
    "* Solving partial differential equations is one of the pinnacles of computational physics, bringing together many methods.\n",
    "* Each type comes with design decisions on how to discretize and implement numerical methods,\n",
    "* Stability is crucial.\n",
    "* Accuracy is crucial too."
   ]
  },
  {
   "cell_type": "markdown",
   "metadata": {
    "cell_style": "split",
    "jp-MarkdownHeadingCollapsed": true,
    "slideshow": {
     "slide_type": "slide"
    },
    "tags": []
   },
   "source": [
    "Recall conical equations in geometry:\n",
    "$$ \\alpha x^2 + \\beta xy + \\gamma y^2 + \\delta x + \\varepsilon y = f, $$\n",
    "classified using $ \\Delta = \\beta^2 - 4\\alpha\\gamma.$\n",
    "\n",
    "1. $\\Delta = 0$: equation for a parabola,\n",
    "3. $\\Delta < 0$: equation for an ellipse,\n",
    "2. $\\Delta > 0$: equation for a hyperbola."
   ]
  },
  {
   "cell_type": "markdown",
   "metadata": {
    "slideshow": {
     "slide_type": "subslide"
    }
   },
   "source": [
    "Similar for PDEs:\n",
    "$$ \\alpha\\frac{\\partial^2 \\phi}{\\partial x^2} + \\beta\\frac{\\partial^2 \\phi}{\\partial x\\partial y} + \\gamma\\frac{\\partial^2 \\phi}{\\partial y^2} + \\delta \\frac{\\partial\\phi}{\\partial x} + \\varepsilon\\frac{\\partial\\phi}{\\partial y} = f.$$\n"
   ]
  },
  {
   "cell_type": "markdown",
   "metadata": {
    "cell_style": "split",
    "slideshow": {
     "slide_type": "subslide"
    }
   },
   "source": [
    "With $\\Delta = \\beta^2 - 4\\alpha\\gamma$,\n",
    "1. $\\Delta = 0$: parabolic PDE,\n",
    "3. $\\Delta < 0$: elliptic PDE,\n",
    "2. $\\Delta > 0$: hyperbolic PDE."
   ]
  },
  {
   "cell_type": "markdown",
   "metadata": {},
   "source": [
    "## Physics Examples"
   ]
  },
  {
   "cell_type": "markdown",
   "metadata": {
    "slideshow": {
     "slide_type": "subslide"
    }
   },
   "source": [
    "1. Canonical parabolic PDE: the diffusion equation, $ \\kappa \\frac{\\partial ^2 T}{\\partial x^2}  - \\frac{\\partial T}{\\partial t} = 0$,\n",
    "    $$x\\to x,\\quad y\\to t,\\quad \\alpha \\to \\kappa,\\quad \\varepsilon \\to - 1,\\quad \\beta, \\gamma, \\delta, f \\to 0 \\quad\\Rightarrow\\quad \\beta^2 - 4\\alpha\\gamma = 0.$$\n",
    "2. Canonical elliptic PDE: the Poisson equation, $\\ \\nabla^2 \\phi = \\rho$,\n",
    "    $$x\\to x,\\quad y\\to y,\\quad\\alpha, \\gamma \\to 1, f \\to \\rho, \\beta, \\delta, \\varepsilon \\to 0 \\quad \\Rightarrow \\quad \\beta^2 - 4\\alpha\\gamma = -4<0.$$\n",
    "   * e.g. 2D electrostatics, with electric potential $\\phi$ s.t. $\\vec E  = \\nabla \\phi$, in the absence of charges $(\\rho \\equiv 0)$, have Gauss' law:\n",
    "$\\frac{\\partial^2 \\phi}{\\partial x^2} + \\frac{\\partial^2 \\phi}{\\partial y^2} = 0$\n",
    "3. Canonical hyperbolic PDE: the wave equation, $\\ \\displaystyle c^2 \\frac{\\partial ^2 \\phi}{\\partial x^2}  - \\frac{\\partial^2 \\phi}{\\partial t^2} = 0.$\n",
    "    $$x\\to x,\\quad y\\to t,\\quad \\alpha \\to c^2,\\quad \\gamma \\to - 1,\\quad \\beta, \\delta, \\varepsilon, f \\to 0 \\quad\\Rightarrow\\quad \\beta^2 - 4\\alpha\\gamma = 4c^2 >0.$$"
   ]
  },
  {
   "cell_type": "markdown",
   "metadata": {
    "slideshow": {
     "slide_type": "subslide"
    }
   },
   "source": [
    "Note: we use these categorizations even when the spatial operator is $\\nabla^2 = \\partial_x^2 + \\partial_y^2 + \\partial_z^2$, i.e., for 4D PDEs."
   ]
  },
  {
   "cell_type": "markdown",
   "metadata": {
    "slideshow": {
     "slide_type": "subslide"
    }
   },
   "source": [
    "## General approach\n",
    "\n",
    "* Discretize system spatially and temporally: can use finite difference, spectral coefficients, etc.\n",
    "* $\\Rightarrow$ set of coupled ODEs that you need to solve in an efficient way.\n",
    "* Spatial derivatives bring information in from neighbouring points $\\Rightarrow$ coupling,\n",
    "* $\\Rightarrow$ errors depend on space and time and can get wave-like characteristics.\n",
    "* For 2nd derivatives, recall central difference calculation (§5.10.5, p.197):\n",
    "$$f''(x) = \\frac{f(x+h) - 2f(x)+ f(x-h)}{h^2} - \\frac{1}{12}h^2 f^{(4)}(x) + \\dots{}$$"
   ]
  },
  {
   "cell_type": "markdown",
   "metadata": {},
   "source": [
    "# Elliptic Equations"
   ]
  },
  {
   "cell_type": "markdown",
   "metadata": {
    "slideshow": {
     "slide_type": "subslide"
    }
   },
   "source": [
    "Start with simplest case of Gauss's Law with 2D Laplacian:\n",
    "$$0 = \\nabla^2 \\phi  = \\frac{\\partial^2 \\phi}{\\partial x^2} + \\frac{\\partial^2 \\phi}{\\partial y^2},$$\n",
    "\n",
    "On regular square grid of cell side length $a$, finite difference form is\n",
    "\\begin{align}\n",
    "\\frac{\\partial^2 \\phi}{\\partial x^2} & \\approx \\frac{\\phi(x+a, y) - 2\\phi(x, y)+ \\phi(x-a, y)}{a^2},\\\\\n",
    "\\frac{\\partial^2 \\phi}{\\partial y^2} & \\approx \\frac{\\phi(x, y+a) - 2\\phi(x, y)+ \\phi(x, y-a)}{a^2}.\n",
    "\\end{align}\n",
    "Gauss's law then becomes:\n",
    "$$0 \\approx \\phi(x+a, y) + \\phi(x-a, y) + \\phi(x, y+a) + \\phi(x, y-a) - 4\\phi(x, y)$$\n",
    "at each location $(x, y)$."
   ]
  },
  {
   "cell_type": "markdown",
   "metadata": {
    "slideshow": {
     "slide_type": "subslide"
    }
   },
   "source": [
    "* Put together a series of equations of the form\n",
    "    $$\\phi(x+a, y) + \\phi(x-a, y) + \\phi(x, y+a) + \\phi(x, y-a) - 4\\phi(x) = 0$$\n",
    "    for each $x$ and $y$, subject to boundary conditions.\n",
    "* $\\phi$ or derivative $\\partial\\phi/\\partial \\xi$ ($\\xi = x,\\ y,$ or both) given on boundary.\n",
    " * If $\\phi$ given, use this value for adjacent points.\n",
    " * If $\\partial\\phi/\\partial \\xi$ given, find algebraic relationship between points near to boundary using finite difference.\n",
    "* Could solve using matrix methods $\\mathbf L \\phi = \\mathbf R \\phi$, but a simpler method is possible.\n"
   ]
  },
  {
   "cell_type": "markdown",
   "metadata": {},
   "source": [
    "## Jacobi relaxation method"
   ]
  },
  {
   "cell_type": "markdown",
   "metadata": {
    "slideshow": {
     "slide_type": "slide"
    }
   },
   "source": [
    "$$\\phi(x+a, y) + \\phi(x-a, y) + \\phi(x, y+a) + \\phi(x, y-a) - 4\\phi(x) = 0$$\n",
    "* Iterate the rule\n",
    "$\\phi_{new}(x, y) = \\frac14\\left[\\phi(x+a, y) + \\phi(x-a, y) + \\phi(x, y+a) + \\phi(x, y-a)\\right].$\n",
    "* Much like the relaxation method for finding solutions of $f(x) = x$,\n",
    "* For this problem it turns out that Jacobi Relaxation is always stable and so always gives a solution!"
   ]
  },
  {
   "cell_type": "markdown",
   "metadata": {
    "slideshow": {
     "slide_type": "subslide"
    }
   },
   "source": [
    "## Overrelaxation method\n",
    "\n",
    "$\\phi_{new}(x,y) = $\n",
    "$$(1+\\omega)\\left[\\frac{\\phi(x+a, y) + \\phi(x-a, y) + \\phi(x, y+a) + \\phi(x, y-a)}4\\right] - \\omega \\phi (x,y)$$\n",
    "* When it works, it usually speeds up the calculation.\n",
    "* Not always stable! How to choose $\\omega$ is not always reproducible.\n",
    "* see Newman's exercise 6.11 for a similar problem for finding $f(x)=x$."
   ]
  },
  {
   "cell_type": "markdown",
   "metadata": {
    "slideshow": {
     "slide_type": "slide"
    }
   },
   "source": [
    "## Gauss-Seidel method\n",
    "\n",
    "* Replace function on the fly as in\n",
    "$$\\phi(x, y) \\leftarrow \\frac{\\phi(x+a, y) + \\phi(x-a, y) + \\phi(x, y+a) + \\phi(x, y-a)}4.$$\n",
    "* Crucial difference: the LHS is $\\phi$, not $\\phi_{new}$: we use newer values as they are being computed (Jacobi used only old values to compute new one).\n",
    "* This can be shown to run faster.\n",
    "* Can be combined with overrelaxation."
   ]
  },
  {
   "cell_type": "markdown",
   "metadata": {},
   "source": [
    "# Parabolic PDEs"
   ]
  },
  {
   "cell_type": "markdown",
   "metadata": {},
   "source": [
    "* Consider the 1D heat equation:\n",
    "$$\\frac{\\partial T}{\\partial t} = \\kappa\\frac{\\partial^2 T}{\\partial x^2},$$\n",
    "* B.Cs.:\n",
    "    $$T(x=0, t) = T_0, \\quad T(x=L, t) = T_L.$$\n",
    "* I.C.:\n",
    "    $$T(x, t=0) = T_0 +  (T_L - T_0)\\left(\\frac{f(x) - f(0)}{f(L) - f(0)}\\right)$$"
   ]
  },
  {
   "cell_type": "markdown",
   "metadata": {
    "cell_style": "center",
    "slideshow": {
     "slide_type": "slide"
    }
   },
   "source": [
    "## Explicit Forward Time Centred Space method"
   ]
  },
  {
   "cell_type": "markdown",
   "metadata": {
    "cell_style": "center",
    "slideshow": {
     "slide_type": "subslide"
    }
   },
   "source": [
    "**Step 1: Discretize in space**\n",
    "\n",
    "$\\displaystyle x_m = \\frac{m}{M}L = am, \\quad m=0\\dots{}M, \\quad a = \\frac{L}M$,\n",
    "\n",
    "$T_m(t) = \\left[T_0(t), \\dots{}, T_{M}(t)\\right]$\n",
    "\n",
    "$\\displaystyle \\left.\\frac{\\partial^2 T}{\\partial x^2}\\right|_{x=x_m, t} \\approx \\frac{T_{m+1} - 2 T_m + T_{m-1}}{a^2}\\quad$ (\"centred space\", CS)"
   ]
  },
  {
   "cell_type": "markdown",
   "metadata": {
    "slideshow": {
     "slide_type": "subslide"
    }
   },
   "source": [
    "**Step 2: Discretize in time**\n",
    "\n",
    "$\\displaystyle \\frac{d T_m}{d t} \\approx \\kappa\\frac{T_{m+1} - 2 T_m + T_{m-1}}{a^2},\\quad m = 1 \\dots{}, M-1$\n",
    "\n",
    "Let $t_n = nh$, $h$ the time step. Let $T_m(t_n) \\equiv T_m^n$.\n",
    "\n",
    "$\\displaystyle \\Rightarrow \\left.\\frac{\\partial T}{\\partial t}\\right|_{x=ma, t=nh} \\approx \\frac{T_{m}^{n+1} - T_m^n}{h} \\equiv \\kappa\\frac{T_{m+1}^n - 2 T_m^n + T_{m-1}^n}{a^2}$ (\"Forward Time\", FT).\n",
    "\n",
    "$\\Rightarrow$ **Explicit FTCS method:**\n",
    "$$\\boxed{T_m^{n+1} = T_m^n + \\frac{\\kappa h}{a^2}\\left(T_{m+1}^n - 2 T_m^n + T_{m-1}^n\\right)}.$$"
   ]
  },
  {
   "cell_type": "markdown",
   "metadata": {
    "slideshow": {
     "slide_type": "slide"
    }
   },
   "source": [
    "It may be easier to understand by writing the problem as a set of ODEs\n",
    "$$\\frac{\\partial \\phi_m}{\\partial t} = \\psi_m, \\quad \\text{and}\\quad \\frac{\\partial \\psi_m}{\\partial t} = \\frac{c^2}{a^2}\\left(\\phi_{m+1} - 2\\phi_m + \\phi_{m-1}\\right)$$\n",
    "\n",
    "and the discretization in time as:\n",
    "$$\n",
    "    \\begin{bmatrix}\n",
    "        \\phi_m^{n+1} \\\\\n",
    "        \\psi_m^{n+1}\n",
    "    \\end{bmatrix}\n",
    "    = \n",
    "    \\begin{bmatrix}\n",
    "        1 & +h \\\\\n",
    "        -\\frac{2hc^2}{a^2} & 1\n",
    "    \\end{bmatrix}\n",
    "    \\begin{bmatrix}\n",
    "        \\phi_m^{n} \\\\\n",
    "        \\psi_m^{n}\n",
    "    \\end{bmatrix}\n",
    "    +\n",
    "    \\begin{bmatrix}\n",
    "        0 \\\\\n",
    "        \\frac{c^2 h}{a^2}\\left(\\phi_{m+1}^n + \\phi_{m-1}^n\\right)\n",
    "    \\end{bmatrix}\n",
    "$$"
   ]
  },
  {
   "cell_type": "markdown",
   "metadata": {},
   "source": [
    "## Implicit FTCS Method"
   ]
  },
  {
   "cell_type": "markdown",
   "metadata": {},
   "source": [
    "Evaluate the RHS of the above at time $t+h$ instead of $t$"
   ]
  },
  {
   "cell_type": "markdown",
   "metadata": {
    "slideshow": {
     "slide_type": "subslide"
    }
   },
   "source": [
    "* first do $h\\to -h$ (from the current time step, compute the *previous* one):\n",
    "    \\begin{align*}\n",
    "        \\phi_m^{n-1} & = \\phi_m^{n} - h\\psi_m^{n},\\\\\n",
    "        \\psi_m^{n-1} & = \\psi_m^{n} - h\\frac{c^2}{a^2}\\left(\\phi_{m-1}^{n} + \\phi_{m+1}^{n} - 2\\phi_m^{n}\\right),\n",
    "    \\end{align*}\n",
    "* Then, $n \\to n+1$ (one shift forward in time):\n",
    "    \\begin{align*}\n",
    "        \\phi_m^{n} & = \\phi_m^{n+1} - h\\psi_m^{n+1},\\\\\n",
    "        \\psi_m^{n} & = \\psi_m^{n+1} - h\\frac{c^2}{a^2}\\left(\\phi_{m-1}^{n+1} + \\phi_{m+1}^{n+1} - 2\\phi_m^{n+1}\\right),\n",
    "    \\end{align*}\n",
    "    or \n",
    "    $$\n",
    "    \\begin{bmatrix}\n",
    "        \\phi_m^n \\\\\n",
    "        \\psi_m^n\n",
    "    \\end{bmatrix}\n",
    "    = \n",
    "    \\begin{bmatrix}\n",
    "        1 & -h \\\\\n",
    "        +\\frac{2hc^2}{a^2} & 1\n",
    "    \\end{bmatrix}\n",
    "    \\begin{bmatrix}\n",
    "        \\phi_m^{n+1} \\\\\n",
    "        \\psi_m^{n+1}\n",
    "    \\end{bmatrix}\n",
    "    -\n",
    "    \\begin{bmatrix}\n",
    "        0 \\\\\n",
    "        \\frac{c^2 h}{a^2}\\left(\\phi_{m+1}^{n+1} + \\phi_{m-1}^{n+1}\\right)\n",
    "    \\end{bmatrix}\n",
    "    $$"
   ]
  },
  {
   "cell_type": "markdown",
   "metadata": {
    "slideshow": {
     "slide_type": "subslide"
    }
   },
   "source": [
    "\"Implicit\": we now have a set of simultaneous equations relating the values of $\\phi,~\\psi$ at $t$ to their values at $t+h$.\n",
    "\n",
    "Why bother solving these simultaneous equations, rather than using an \"explicit\" expression for the values of $\\phi,~\\psi$ at $t+h$ given their values at $t$ ?\n",
    "\n",
    "Because in certain cases, this is numerically stable while the explicit FTCS is not! (More about this later)\n",
    "\n",
    "Note, it does often suffer from accuracy issues, where solutions decay to 0 over time."
   ]
  },
  {
   "cell_type": "markdown",
   "metadata": {},
   "source": [
    "## Crank-Nicolson"
   ]
  },
  {
   "cell_type": "markdown",
   "metadata": {
    "slideshow": {
     "slide_type": "slide"
    }
   },
   "source": [
    "Average of explicit and implicit methods.\n",
    "\n",
    "Explicit ('forward'):\n",
    "$$ \n",
    "\\begin{align}\n",
    "\\phi_m^{n+1} &= \\phi_m^{n} + h\\psi_m^{n}, & \\psi_m^{n+1} = \\psi_m^{n} + h\\frac{c^2}{a^2}\\left(\\phi_{m-1}^{n} + \\phi_{m+1}^{n} - 2\\phi_m^{n}\\right).\n",
    "\\end{align}\n",
    "$$\n",
    "Implicit ('backward'):\n",
    "$$ \n",
    "\\begin{align}\n",
    "\\phi_m^{n+1} - h\\psi_m^{n+1} &= \\phi_m^n, &\\psi_m^{n} = \\psi_m^{n+1} - h\\frac{c^2}{a^2}\\left(\\phi_{m-1}^{n+1} + \\phi_{m+1}^{n+1} - 2\\phi_m^{n+1}\\right).\n",
    "\\end{align}\n",
    "$$\n",
    "Crank-Nicholson (C-N):\n",
    "$$ \n",
    "\\phi_m^{n+1} - \\frac{h}2\\psi_m^{n+1} = \\phi_m^{n} + \\frac{h}2\\psi_m^{n}\n",
    "$$\n",
    "$$ \\psi_m^{n+1} - \\frac{h}2\\frac{c^2}{a^2}\\left(\\phi_{m-1}^{n+1} + \\phi_{m+1}^{n+1} - 2\\phi_m^{n+1}\\right) = \\psi_m^{n} + \\frac{h}2\\frac{c^2}{a^2}\\left(\\phi_{m-1}^{n} + \\phi_{m+1}^{n} - 2\\phi_m^{n}\\right).\n",
    "$$"
   ]
  },
  {
   "cell_type": "markdown",
   "metadata": {},
   "source": [
    "C-N is 2nd-order accurate in time, while both explicit and implicit methods are 1st-order accurate. So, C-N often solves the 'decaying to 0' issues encountered with the implicit method."
   ]
  },
  {
   "cell_type": "markdown",
   "metadata": {},
   "source": [
    "# Hyperbolic PDEs"
   ]
  },
  {
   "cell_type": "markdown",
   "metadata": {},
   "source": [
    "Explicit FTCS is always unstable. Use C-N, or spectral methods (next time)"
   ]
  }
 ],
 "metadata": {
  "celltoolbar": "Slideshow",
  "kernelspec": {
   "display_name": "Python 3 (ipykernel)",
   "language": "python",
   "name": "python3"
  },
  "language_info": {
   "codemirror_mode": {
    "name": "ipython",
    "version": 3
   },
   "file_extension": ".py",
   "mimetype": "text/x-python",
   "name": "python",
   "nbconvert_exporter": "python",
   "pygments_lexer": "ipython3",
   "version": "3.11.9"
  }
 },
 "nbformat": 4,
 "nbformat_minor": 4
}
