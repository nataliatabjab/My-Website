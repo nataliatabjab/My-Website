{
 "cells": [
  {
   "cell_type": "markdown",
   "metadata": {
    "slideshow": {
     "slide_type": "slide"
    }
   },
   "source": [
    "*Supporting textbook chapters for week 10: Chapters 10.1 and 10.2*\n",
    "\n",
    "Week 10 topics:\n",
    "\n",
    "* Random number generation\n",
    "* Monte Carlo integration"
   ]
  },
  {
   "cell_type": "markdown",
   "metadata": {
    "slideshow": {
     "slide_type": "slide"
    }
   },
   "source": [
    "## Intro to Random Numbers\n",
    "\n",
    "Why we need random numbers:\n",
    "\n",
    "* For randomly sampling a domain (today)\n",
    "* Monte Carlo integration (today)\n",
    "* Monte Carlo simulations (next week): including physical processes like diffusion, radioactive decay, Brownian motion\n",
    "* Stochastic algorithms (we'll see some next week)\n",
    "* Cryptography"
   ]
  },
  {
   "cell_type": "markdown",
   "metadata": {
    "cell_style": "split",
    "slideshow": {
     "slide_type": "subslide"
    }
   },
   "source": [
    "What is a useful random sequence of numbers?\n",
    "\n",
    "* Follows some desired distribution\n",
    "* Unpredictable on a number-by-number basis\n",
    "* Fast to generate (we may need billions of them)\n",
    "* Long period (we may need billions of them)\n",
    "* Uncorrelated"
   ]
  },
  {
   "cell_type": "markdown",
   "metadata": {
    "cell_style": "split",
    "slideshow": {
     "slide_type": "subslide"
    }
   },
   "source": [
    "Problems with *actually* random numbers:\n",
    "\n",
    "* generally slow, expensive to generate,\n",
    "* hard/impossible to reproduce for debugging\n",
    "* Often hard to characterize underlying distribution"
   ]
  },
  {
   "cell_type": "markdown",
   "metadata": {
    "slideshow": {
     "slide_type": "subslide"
    }
   },
   "source": [
    "**Q:** How can a computer generate random numbers?"
   ]
  },
  {
   "cell_type": "markdown",
   "metadata": {
    "slideshow": {
     "slide_type": "fragment"
    }
   },
   "source": [
    "**A:** It can't, assuming it's a classical (not quantum) computer!"
   ]
  },
  {
   "cell_type": "markdown",
   "metadata": {
    "slideshow": {
     "slide_type": "subslide"
    }
   },
   "source": [
    "The classical computer can't do anything randomly. So there are 2 options:\n",
    "\n",
    "* find physical process (e.g. quantum) that actually is random, have computer store info from that to provide a random number\n",
    "* Use an algorithm for generating a sequence of numbers that approximates the properties of random numbers. This is called a \"Pseudorandom Number Generator\" (PRNG) or a \"Deterministic Random Bit Generator\" (DRBG)."
   ]
  },
  {
   "cell_type": "markdown",
   "metadata": {
    "slideshow": {
     "slide_type": "slide"
    }
   },
   "source": [
    "## Common Tests for Randomness\n",
    "\n",
    "* Making sure numbers aren't correlated,\n",
    "* Making sure higher-order moments of distributions have desired properties\n",
    "* Other tests..."
   ]
  },
  {
   "cell_type": "markdown",
   "metadata": {
    "slideshow": {
     "slide_type": "subslide"
    }
   },
   "source": [
    "### Correlations\n",
    "\n",
    "Simple pairwise correlations:\n",
    "$$\\epsilon(N, n) = \\frac1N \\sum_{i=1}^{N}x_i x_{i+n} - \\mathrm E[x^2]$$\n",
    "\n",
    "* $N =$ number of data points\n",
    "* $n = $ correlation \"distance\"\n",
    "* $\\mathrm E[X]$, the expected value of $X$.\n",
    "\n",
    "We want to avoid correlations between pairs of numbers."
   ]
  },
  {
   "cell_type": "markdown",
   "metadata": {
    "slideshow": {
     "slide_type": "subslide"
    }
   },
   "source": [
    "Left: bad PRNG. right: Mersenne Twister. From Katzgrabber, \"Random Numbers in Scientific Computing: an Introduction\" (arXiv: 1005.4117)\n",
    "<img src=\"Mersenne.png\" width=\"600\">"
   ]
  },
  {
   "cell_type": "markdown",
   "metadata": {
    "slideshow": {
     "slide_type": "subslide"
    }
   },
   "source": [
    "### Moments\n",
    "\n",
    "$k^\\text{th}$ moment of $\\mu(N, k)$ (sequence of $N$ elements) : $\\mu(N, k) = \\mathrm E[x^k]$\n",
    "\n",
    "We want to ensure moments of random number distributions also have desired properties."
   ]
  },
  {
   "cell_type": "markdown",
   "metadata": {
    "slideshow": {
     "slide_type": "fragment"
    }
   },
   "source": [
    "### Other tests\n",
    "\n",
    "* Overlapping permutations. e.g. analyze orders of 5 consecutive random numbers. There are $5! (=5\\times4\\times\\dots)$  possible permutations. They should occur with equal probability.\n",
    "* ..."
   ]
  },
  {
   "cell_type": "markdown",
   "metadata": {
    "slideshow": {
     "slide_type": "slide"
    }
   },
   "source": [
    "## Linear Congruential Generator\n",
    "\n",
    "* Sequences produced by a PRNG seem random, but are reproducible if you start with  same \"seed\"\n",
    "* e.g. (actually a bad choice for a PRNG, but good for illustration): LC-RNG\n",
    "  * $x_{i+1} = (ax_i + c) \\mod m$. \n",
    "  * In Python, produce it with:\n",
    "    `x[i+1] = (a*x[i] + c) % m`\n",
    "  * $x_0$ is the seed, $m$ is a large integer which determines the period. For good results:\n",
    "    * $a-1$ is a multiple of $p$ for every prime divisor $p$ of $m$\n",
    "        (e.g., $a-1$ is multiple of $2$ and $3$ if $m$ is multiple of $2$ and $3$),\n",
    "    * $c$ relatively prime to $m$.\n",
    "* How does computer pick seed $x_0$?  Taking system time is common (dangerous in parallel because all processors could use the same time-seed, though)"
   ]
  },
  {
   "cell_type": "code",
   "execution_count": 10,
   "metadata": {
    "slideshow": {
     "slide_type": "subslide"
    }
   },
   "outputs": [
    {
     "data": {
      "image/png": "[encoded data removed]",
      "text/plain": [
       "<Figure size 432x288 with 1 Axes>"
      ]
     },
     "metadata": {
      "needs_background": "light"
     },
     "output_type": "display_data"
    }
   ],
   "source": [
    "# Newman's lcg.py\n",
    "from pylab import plot, show\n",
    "\n",
    "N = 100\n",
    "a = 1664525\n",
    "c = 1013904223\n",
    "m = 4294967296\n",
    "x = 11\n",
    "results = []\n",
    "\n",
    "for i in range(N):\n",
    "    x = (a*x+c) % m\n",
    "    results.append(x)\n",
    "plot(results, \"o\")\n",
    "show()\n"
   ]
  },
  {
   "cell_type": "markdown",
   "metadata": {
    "slideshow": {
     "slide_type": "subslide"
    }
   },
   "source": [
    "Benefits: \n",
    "\n",
    "* good for testing code, since you can supply the same 'seed' (for reproducible outcome). e.g. the following code will always produce the same `x` (that is, 0.03738057695923325).\n",
    "\n",
    "    `random.seed(4219)`\n",
    "    \n",
    "    `x = random.random()`\n",
    "    \n",
    "    * *This is actually true for most PRNGs, not just this linear congruential*\n",
    "    * *The basic default behaviour of PRNGs is to rescale results over $[0, 1)$, hence the non-integer value for `x` above.*\n",
    "\n",
    "* easy to generate many different sequences, just pick many different seeds.\n"
   ]
  },
  {
   "cell_type": "markdown",
   "metadata": {
    "slideshow": {
     "slide_type": "slide"
    }
   },
   "source": [
    "## Randoms in python\n",
    "\n",
    "Better methods?\n",
    "\n",
    "* We want to avoid correlations between pairs of numbers\n",
    "* Can do lots of test to show if PRNGs producing right \"statistics\" of random numbers!\n",
    "* Python uses a Mersenne twister"
   ]
  },
  {
   "cell_type": "markdown",
   "metadata": {
    "slideshow": {
     "slide_type": "subslide"
    }
   },
   "source": [
    "Functions in `random.py` most likely to use (assuming `import random`):\n",
    "\n",
    "* `random()`: gives a random float uniformly distributed in a the range $[0, 1)$ (all values have equal probability of being selected),\n",
    "* `randrange(m, n)`: Gives a random integer from `m` to `n-1`, inclusive.\n",
    "* If you need a uniformly distributed random float outside the range $[0,1)$, say in range $[a,b)$, then just multiply your answer by $(b-a)$ and shift the argument. For example:\n",
    "\n",
    "    `num = random()`\n",
    "\n",
    "    `shiftnum = (b-a)*num + a`"
   ]
  },
  {
   "cell_type": "markdown",
   "metadata": {
    "slideshow": {
     "slide_type": "subslide"
    }
   },
   "source": [
    "More resources (**you may find useful for lab!**):\n",
    "\n",
    "https://numpy.org/doc/stable/reference/random/index.html\n",
    "\n",
    "https://docs.python.org/3/library/random.html"
   ]
  },
  {
   "cell_type": "markdown",
   "metadata": {
    "slideshow": {
     "slide_type": "slide"
    }
   },
   "source": [
    "## Non-Uniform distributions\n",
    "What if you need a random number from a non-uniform distribution?\n",
    "\n",
    "* Get a uniformly distributed random number, then use a transformation to make it seem like it comes from a non-uniform distribution.\n",
    "* Consider source of random floats $z$ from a distribution with probability density function $q(z)$, i.e., the probability of generating a number in the interval $z$ to $z+\\text dz$ is:\n",
    "$$q(z)\\text dz$$\n",
    "* For a uniform distribution over $[0, 1)$, $q(z)=1$ because for all d$z$, equal probability of number being chosen.\n"
   ]
  },
  {
   "cell_type": "markdown",
   "metadata": {
    "slideshow": {
     "slide_type": "subslide"
    }
   },
   "source": [
    "* Now consider transformation of $z$ into new variable, say $x$, using:\n",
    "    $$x=x(z)$$\n",
    "* Then $x$ is also a random number but will have some other probability distribution, call it $p(x)$.\n",
    "* The probability of generating a value of $x$ between $x$ and $x+\\text dx$ is by definition equal to the probability of generating a value of $z$ between the corresponding $z$ and $z + \\text dz$:\n",
    "    $$p(x) \\text dx = q(z) \\text dz, \\quad \\text{where}\\ x=x(z)$$\n"
   ]
  },
  {
   "cell_type": "markdown",
   "metadata": {
    "slideshow": {
     "slide_type": "subslide"
    }
   },
   "source": [
    "* Goal: find a function $x(z)$ so that $x$ has the distribution we want.\n",
    "* Then we can use `random()` to get a uniformly distributed random number $z$ and transform it to $x$ using:\n",
    "    $$q(z) = 1 \\quad \\text{over}\\quad [0,1)$$\n",
    "    $$q(z)\\text dz = p(x)\\text d x$$\n",
    "    $$\\Rightarrow \\int_0^z 1 \\text d z' = z = \\int_0^{x(z)} p(x')\\text d x'.$$\n",
    "* Plug in your $p(x)$ for the probability distribution you need and integrate to find $z(x)$ (if you can!)\n",
    "* Even then: might not be possible to solve for $x(z)$."
   ]
  },
  {
   "cell_type": "markdown",
   "metadata": {
    "slideshow": {
     "slide_type": "subslide"
    }
   },
   "source": [
    "**Example: exponential distribution**\n",
    "$$q(z) = 1 \\quad \\text{over}\\quad [0,1)$$\n",
    "$$p(x) = a\\exp(-a x)  \\quad \\text{over}\\quad [0,\\infty)$$\n",
    "$$\\Rightarrow\\ z = \\int_0^{x(z)}a\\exp(-ax')\\text d x' = 1 - \\exp(-ax)$$\n",
    "$$\\Rightarrow\\ x = -\\frac{\\ln(1-z)}a.$$\n",
    "\n",
    "* Draw a number $z$ in $[0,1)$,\n",
    "* $x(z)$ has the desired distribution."
   ]
  },
  {
   "cell_type": "markdown",
   "metadata": {
    "slideshow": {
     "slide_type": "slide"
    }
   },
   "source": [
    "## Intro to \"Monte Carlo Integration\"\n",
    "\n",
    "* Sounds great in theory. Would never work in practice without computers.\n",
    "* 3 Monte Carlo techniques you will use in the lab:\n",
    "    * \"hit or miss\" or \"standard\" Monte Carlo\n",
    "    * \"mean value\" Monte Carlo\n",
    "    * \"importance sampling\" Monte Carlo\t\n"
   ]
  },
  {
   "cell_type": "markdown",
   "metadata": {
    "slideshow": {
     "slide_type": "subslide"
    }
   },
   "source": [
    "You've already learned a bunch of different methods for integrating, why introduce another one?  (Especially since its convergence/error properties are worse than the other methods):\n",
    "\n",
    "### Reason 1: Good for pathological functions \n",
    "Or just fast-varying functions. \n"
   ]
  },
  {
   "cell_type": "markdown",
   "metadata": {
    "cell_style": "split",
    "slideshow": {
     "slide_type": "subslide"
    }
   },
   "source": [
    "### Reason 2: MUCH faster for multi-dimensional integrals.\n",
    "\n",
    "The \"curse of dimensionality\":\n",
    "\n",
    "* For a dimension-$d$ integral, you need $O(n^d)$ grid points.\n",
    "  * E.g. with trapezoid, Simpson or Gaussian integration: for $n=10$ points along one axis, a $10$-$d$ integral need $10^{10}$ grid points!\n",
    "* Alternative way to look at it: if you can afford $N$ points, your grid has side length $O(N^{1/d})$.\n",
    "    * For trapezoid integration, error $\\epsilon = O(h^2) \\propto 1/N^{2/d}$.\n",
    "    * E.g., for a 10-$d$ integral, $\\epsilon \\propto 1/N^{1/5}$.\n",
    "    * **Monte Carlo:** $\\boxed{\\epsilon \\propto 1/N^{1/2}}$**, regardless of $d$.**"
   ]
  },
  {
   "cell_type": "markdown",
   "metadata": {
    "cell_style": "split",
    "slideshow": {
     "slide_type": "subslide"
    }
   },
   "source": [
    "### Reason 3: much easier to implement in complicated domains \n",
    "i.e., complicated boundaries of integration."
   ]
  },
  {
   "cell_type": "markdown",
   "metadata": {
    "slideshow": {
     "slide_type": "slide"
    }
   },
   "source": [
    "## Implementation of Monte Carlo integration\n",
    "\n",
    "Use random numbers to pick points at which to evaluate integrand.\n",
    "<img src=\"MC_implementation.png\" width=\"500\">\n",
    "\n",
    "* Simple and flexible.\n",
    "* Can \"tune\" it to focus on important parts."
   ]
  },
  {
   "cell_type": "markdown",
   "metadata": {
    "cell_style": "split",
    "slideshow": {
     "slide_type": "subslide"
    }
   },
   "source": [
    "### Hit-or-miss MC\n",
    "\n",
    "* If your function \"fits\" in a finite region where we want to integrate from $x=0$ to $x=2$:\n",
    "$$f(x) = \\sin^2\\left[\\frac{1}{(2-x)x}\\right]$$\n",
    "* function fits in box of height 1, width 2. \n",
    "* Define area of box: $A$ ($=2$ here; *this is important! It is the piece of info we will leverage*).\n",
    "* Integral of function is shaded area in the box  (call it $I$)."
   ]
  },
  {
   "cell_type": "markdown",
   "metadata": {
    "cell_style": "split",
    "slideshow": {
     "slide_type": "subslide"
    }
   },
   "source": [
    "Newman, fig 10-4\n",
    "<img src=\"fig10-4.png\" width=\"700\">"
   ]
  },
  {
   "cell_type": "markdown",
   "metadata": {
    "slideshow": {
     "slide_type": "subslide"
    }
   },
   "source": [
    "* Probability that your random point falls in the shaded region is $p = I/A$.\n",
    "* Algorithm:\n",
    "    1. Randomly pick $N$ locations $(x, y)$ in the box (lots of them).\n",
    "    2. Count the number of locations that are in the shaded region (call the count $k$).\n",
    "    3. The fraction of points in the shaded region is $k/N$. This approximates the probability $p$.\n",
    "Solve for $I$:\n",
    "$$P = \\frac{I}{A} \\approx \\frac{k}N\\ \\Rightarrow\\ I\\approx \\frac{kA}{N}.$$"
   ]
  },
  {
   "cell_type": "markdown",
   "metadata": {
    "slideshow": {
     "slide_type": "subslide"
    }
   },
   "source": [
    "Can estimate the error on the integral (text gives derivation on page 467 from probability theory):\n",
    "\n",
    "* The *Expected Error* (standard deviation):\n",
    "$$\\sigma = \\sqrt{\\frac{(A-I)I}{N}}.$$\n",
    "* Notice it varies as $N^{-1/2}$. This is **very slow**!\n",
    "* Compare:\n",
    "    * Trapezoid Rule: error varies as $N^{-2}$,\n",
    "\t* Simpson's Rule: error varies as $N^{-4}$.\n",
    "* This is why you only use Monte Carlo integration if you absolutely have to."
   ]
  },
  {
   "cell_type": "markdown",
   "metadata": {
    "slideshow": {
     "slide_type": "subslide"
    }
   },
   "source": [
    "**Example: exercise 10.5(a) from the text.**\n",
    "\n",
    "Write a program to evaluate\n",
    "$$I = \\int_0^2 \\sin^2\\left[\\frac1{(2-x)x}\\right]\\text d x$$\n",
    "using the \"hit-or-miss\" method.\n",
    "\n",
    "* Use $N= 10^4$ points.\n",
    "* Also evaluate the error on your method."
   ]
  },
  {
   "cell_type": "code",
   "execution_count": 5,
   "metadata": {
    "slideshow": {
     "slide_type": "subslide"
    }
   },
   "outputs": [
    {
     "name": "stdout",
     "output_type": "stream",
     "text": [
      "I = 1.441800e+00\n",
      "error for hit-or-miss = 8.971136e-03\n"
     ]
    }
   ],
   "source": [
    "import numpy as np\n",
    "\n",
    "def f(x): \n",
    "    return np.sin(1/((2-x)*x))**2  # the function to integrate\n",
    "\n",
    "# define parameters\n",
    "N = 10000\n",
    "k = 0\n",
    "a = 0.\n",
    "b = 2.\n",
    " \n",
    "# loop over samples; in loop, check wether point is above|below curve\n",
    "for i in range(N):\n",
    "    x_sampl = a + (b-a)*np.random.random()\n",
    "    y_sampl = np.random.random()\n",
    "    if y_sampl <= f(x_sampl):\n",
    "        k += 1\n",
    "# compute fraction of points below and integral.\n",
    "A = (b-a)*1.\n",
    "Int = A*k/N\n",
    "print(\"I = {0:.6e}\".format(Int))\n",
    "\n",
    "# compute error\n",
    "sigma_HM = np.sqrt(Int*(A-Int)/N)  # HM stands for hit-or-miss\n",
    "print('error for hit-or-miss = {0:.6e}'.format(sigma_HM))"
   ]
  },
  {
   "cell_type": "markdown",
   "metadata": {
    "slideshow": {
     "slide_type": "slide"
    }
   },
   "source": [
    "### Mean value MC\n",
    "\n",
    "* Use the definition of an average (or mean value):\n",
    "$$I = \\int_a^b f(x)\\text d x,$$\n",
    "$$\\left<f\\right> = \\frac1{b-a}\\int_a^b f(x) \\text d x = \\frac{I}{b-a}$$\n",
    "$$\\Rightarrow\\ I = (b-a)\\left<f\\right>$$\n",
    "* Use random numbers for $x$ to estimate $\\left<f\\right>$. Evaluate $f$ at $N$ random $x$'s, then calculate:\n",
    "$$\\left<f\\right>\\approx\\frac1N\\sum_{i=1}^N f(x_i) \\ \\Rightarrow \\ I\\approx \\frac{b-a}{N}\\sum_{i=1}^N f(x_i).$$\n",
    "* Different from \"hit-or-miss\": back then we chose $N$ random points over $(x, y)$ instead of just $x$ here."
   ]
  },
  {
   "cell_type": "markdown",
   "metadata": {
    "slideshow": {
     "slide_type": "subslide"
    }
   },
   "source": [
    "**Error estimate.**\n",
    "\n",
    "* Can estimate the error on the integral (text gives derivation on pages 468-469 from probability theory):\n",
    "    \"Expected Error\":\n",
    "$$\\sigma = (b-a)\\sqrt{\\frac{\\text{var} f}N}$$\n",
    "$$\\text{var} f = \\left<f^2\\right> - \\left< f \\right>^2.$$\n",
    "* Notice it also varies as $N^{-1/2}$.\n",
    "    However, it turns out the leading constant is smaller than with the hit or miss method. (We won't go into the mathematical details of why.)"
   ]
  },
  {
   "cell_type": "markdown",
   "metadata": {
    "slideshow": {
     "slide_type": "subslide"
    }
   },
   "source": [
    "Example: exercise 10.5(b) from the text.\n",
    "\n",
    "Write a program to evaluate\n",
    "$$I = \\int_0^2 \\sin^2\\left[\\frac1{(2-x)x}\\right]\\text d x$$\n",
    "using the mean value method.\n",
    "\n",
    "* Use $N = 10^4$ points.\n",
    "* Also evaluate the error on your method."
   ]
  },
  {
   "cell_type": "code",
   "execution_count": 6,
   "metadata": {
    "slideshow": {
     "slide_type": "subslide"
    }
   },
   "outputs": [
    {
     "name": "stdout",
     "output_type": "stream",
     "text": [
      "1.447445892696602\n",
      "error =  0.005331635473119352\n",
      "recall error in hit-or-miss =  0.008971135714055384\n"
     ]
    }
   ],
   "source": [
    "#import numpy as np\n",
    "\n",
    "#def f(x): \n",
    "#    return np.sin(1/((2-a)*x))**2\n",
    "\n",
    "#N = 10000\n",
    "#a = 0.\n",
    "#b = 2.\n",
    "\n",
    "k = 0  # will contain the average\n",
    "k2 = 0  # will be used for variance\n",
    "\n",
    "for i in range(N):\n",
    "    x = (b-a)*np.random.random()\n",
    "    k += f(x)\n",
    "    k2 += f(x)**2\n",
    "\n",
    "I = k * (b-a) / N\n",
    "print(I)\n",
    "\n",
    "# error\n",
    "var = k2/N - (k/N)**2  # variance <f**2> - <f>**2\n",
    "sigma_MV = (b-a)*np.sqrt(var/N) \n",
    "print('error = ', sigma_MV)\n",
    "print('recall error in hit-or-miss = ', sigma_HM)"
   ]
  },
  {
   "cell_type": "markdown",
   "metadata": {
    "slideshow": {
     "slide_type": "slide"
    }
   },
   "source": [
    "### Importance sampling MC\n",
    "\n",
    "* Good to use when your integrand contains a divergence\n",
    "* Want to place more points in region where the integrand is large to better estimate the integral\n",
    "* When you want to integrate out to infinity, give less weight to points in densely-populated regions to not bias final result\n",
    "* Illustrative example (obviously a bad one for Monte-Carlo, but good for making my point):\n",
    "$$f(x) = 1\\quad \\text{for}\\quad c<x<d, \\qquad f(x) = 0\\quad \\text{otherwise}.$$"
   ]
  },
  {
   "cell_type": "code",
   "execution_count": 4,
   "metadata": {
    "slideshow": {
     "slide_type": "subslide"
    }
   },
   "outputs": [
    {
     "data": {
      "text/plain": [
       "Text(0, 0.5, '$f$')"
      ]
     },
     "execution_count": 4,
     "metadata": {},
     "output_type": "execute_result"
    },
    {
     "data": {
      "image/png": "[encoded data removed]",
      "text/plain": [
       "<Figure size 600x400 with 1 Axes>"
      ]
     },
     "metadata": {
      "needs_background": "light"
     },
     "output_type": "display_data"
    }
   ],
   "source": [
    "import matplotlib.pyplot as plt\n",
    "x = np.linspace(0, 1, 1000)\n",
    "f = 0.*x\n",
    "\n",
    "c = 0.33\n",
    "d = 0.35\n",
    "for i, xs in enumerate(x):\n",
    "    if c < xs < d:\n",
    "        f[i] = 1.\n",
    "        \n",
    "plt.figure(dpi=100)\n",
    "plt.plot(x, f)\n",
    "plt.grid()\n",
    "plt.xlabel('$x$')\n",
    "plt.ylabel('$f$')"
   ]
  },
  {
   "cell_type": "markdown",
   "metadata": {
    "slideshow": {
     "slide_type": "subslide"
    }
   },
   "source": [
    "* Easy to miss the region between $c$ and $d$ with uniformly sampled points\n",
    "* evaluating the integral many times using Mean Value or Hit/Miss MC (with different randomly sampled points) can give very different answers, much larger than the expected error\n",
    "* Solution: sample \"important\" regions more frequently.\n",
    "    I.e., come up with a non-uniformly distributed set of random numbers.\n",
    "    This is called \"Importance Sampling\"."
   ]
  },
  {
   "cell_type": "markdown",
   "metadata": {
    "slideshow": {
     "slide_type": "subslide"
    }
   },
   "source": [
    "* Text (p. 473) shows that using a weight function $w(x)$, you can always write:\n",
    "$$I = \\int_a^b f(x)\\text d x = \\underbrace{\\left<\\frac{f(x)}{w(x)}\\right>_w}_{weighted\\\\ average}\\int_a^b w(x)\\text d x.$$\n",
    "\n",
    "* Weighted average: $\\left<X\\right>_w =$ average of $X$ over set of points that sample \"heavily-weighted\" region more frequently, following $w$.\n",
    "    * But then, $\\left<f/w\\right>_w$ means that the more we sample a region, the less weight points in that region have in the final average.\n",
    "\n",
    "* Goal: find a weight function that gets rid of pathologies in integrand $f(x)$.\n",
    "    E.g., if $f(x)$ has a divergence, factor the divergence out and hence get a sum (in the $\\left<\\right>$) that is well behaved (i.e. doesn't vary much each time you do the integral)."
   ]
  },
  {
   "cell_type": "markdown",
   "metadata": {
    "slideshow": {
     "slide_type": "subslide"
    }
   },
   "source": [
    "**Example:**\n",
    "$$I = \\int_0^1 \\frac{x^{-1/2}}{1 + \\exp(x)}\\text d x,$$\n",
    "diverges as $x\\to 0$ because of numerator.\n",
    "\n",
    "* Fine, let $w(x)= numerator$.\n",
    "    Then\n",
    "    $$\\left<\\frac{f(x)}{w(x)}\\right>_w = \\frac1N \\sum_{i=1}^{N}\\frac{f(x_i)}{w(x_i)} = \\frac1N \\sum_{i=1}^{N}\\frac{1}{1 + \\exp(x_i)},$$\n",
    "    which is much better behaved than \n",
    "    $$\\left<f(x)\\right> = \\frac1N \\sum_{i=1}^{N}\\frac{x^{-1/2}}{1 + \\exp(x_i)}.$$"
   ]
  },
  {
   "cell_type": "markdown",
   "metadata": {
    "slideshow": {
     "slide_type": "subslide"
    }
   },
   "source": [
    "* $\\left<\\right>_w$ isn't $\\left<\\right>$: it is a *weighted* average, numbers aren't drawn uniformly in $[0, 1)$.\n",
    "    The *weights* define how often you draw a sample\n",
    "* In practice: when you've chosen your weight function, you then need to make sure to randomly sample points from the non-uniform distribution:\n",
    "    $$p(x) = \\frac{w(x)}{\\int_a^b w(x)\\text d x}$$\n",
    "    Use the transformation method described earlier in this lecture to take a uniformly distribution random $z$ and find the corresponding $x$ for this distribution. \n",
    "* \"Expected error\":\n",
    "    $$\\sigma = \\sqrt{\\frac{\\text{var}(f/w)}{N}}\\int_a^b w(x)\\text d x.$$\n",
    "    Yes, it also varies as $N^{-1/2}$.   If you do the integral many times, your values should mostly fall within the expected error.\n"
   ]
  },
  {
   "cell_type": "markdown",
   "metadata": {
    "cell_style": "split",
    "slideshow": {
     "slide_type": "slide"
    }
   },
   "source": [
    "# Summary\n",
    "\n",
    "## Pseudo-random number generators\n",
    "\n",
    "* Computers can't generate purely random numbers, but we can fool ourselves in creating algorithms that mimic random processes\n",
    "* Need statistical tests for randomness of PRNGs (correlations, moments, others...)\n",
    "* Linear congruential random number generator: OK-ish, need long period, some tricks\n",
    "* Python and most libraries use a Mersenne twister, which is better.\n",
    "* Need a non-uniform distribution? (i.e., higher probability to draw a number around or above certain value?) Use a mathematical transform to map a uniform distribution in $[0, 1)$ onto desired distribution."
   ]
  },
  {
   "cell_type": "markdown",
   "metadata": {
    "cell_style": "split",
    "slideshow": {
     "slide_type": "subslide"
    }
   },
   "source": [
    "## Monte Carlo integration\n",
    "\n",
    "* General idea: shoot randomly at a domain (sometimes non-uniformly), tally results.\n",
    "* Convergence in $N^{-1/2}$, with $N$ the total number of evaluations, is the general rule.\n",
    "* Good for higher-dimensional integrals, complicated geometries, pathological functions (in other words: when you are desperate).\n",
    "* Hit-or-miss MC: shoot randomly in dimension-$(d+1)$ domain, count when you hit and when you miss, gives integral.\n",
    "* Mean-value MC: shoot randomly in dimension-$d$ domain ($x$ if 1D) evaluate $f(x_1,...)$, integral is mean value divided by domain size.\n",
    "* Importance sampling: in case of pathology (divergence, etc), factor it out, perform *weighted average*, and use properties of non-uniform distributions to draw numbers and assign weight."
   ]
  }
 ],
 "metadata": {
  "celltoolbar": "Slideshow",
  "kernelspec": {
   "display_name": "base",
   "language": "python",
   "name": "python3"
  },
  "language_info": {
   "codemirror_mode": {
    "name": "ipython",
    "version": 3
   },
   "file_extension": ".py",
   "mimetype": "text/x-python",
   "name": "python",
   "nbconvert_exporter": "python",
   "pygments_lexer": "ipython3",
   "version": "3.9.12"
  }
 },
 "nbformat": 4,
 "nbformat_minor": 2
}
