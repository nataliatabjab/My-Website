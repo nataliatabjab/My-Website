{
 "cells": [
  {
   "cell_type": "markdown",
   "id": "b54cfca2-3517-47ab-b5bd-ff88d819def6",
   "metadata": {
    "slideshow": {
     "slide_type": "subslide"
    }
   },
   "source": [
    "Choose Your Own Adventure! Your options, from simplest to the hardest:\n",
    "\n",
    "* You are happy with what you've learned about the FFT and want to move on: ignore this notebook\n",
    "* You want to understand how FFT works a little deeper: watch the YouTube video at https://youtu.be/h7apO7q16V0 , where in 30 minutes, the narrator goes step-by-step with beautiful visuals. Grasping why FFT is so efficient is a great achievement :)\n",
    "* You want to fully work out an example: go through this notebook with $N=8$.\n",
    "    * Won't do it in-class. Even with small $N$, it's tricky to follow how each step fits into the next. Actually implementing it in code is the easy part, usually a line or two.\n",
    "    * But even if you perfectly understand the YouTube video, there is something to be said about doing it for yourself. One doesn't become a scientist only by watching videos, being able to do stuff is really what earns you a degree :)"
   ]
  },
  {
   "cell_type": "markdown",
   "id": "e3fbddf1-8881-48e8-a85d-bff70c907bfa",
   "metadata": {
    "slideshow": {
     "slide_type": "slide"
    }
   },
   "source": [
    "## Example with $N=8$ \n",
    "\n",
    "We have $M=\\log_2(8) = 3$, as well as $k=0, 1, \\dots 7$ at every step. We also have\n",
    "$$\\omega = \\exp\\left(-\\frac{2i\\pi}8\\right) \\Rightarrow \\omega^{n+8} = \\omega^n,$$\n",
    "which we will use a lot."
   ]
  },
  {
   "cell_type": "markdown",
   "id": "24d75686-6efd-42b4-8d9e-823353abd619",
   "metadata": {
    "slideshow": {
     "slide_type": "subslide"
    }
   },
   "source": [
    "### Writing the pairings\n",
    "\n",
    "The FFT algorithm actually starts from the real values and works its way up to the coefficients. Here, I will start from the coefficients and make my way down to the values, to better understand the notations.\n",
    "\n",
    "#### First bisection\n",
    "\n",
    "Second coefficient of the DFT is\n",
    "\\begin{align*}\n",
    "    c_1 = E_1^{(0, 0)} & = \\sum_{n=0}^3y_n e^{-2i\\pi n/8} = \\sum_{n=0}^3y_n \\omega^{n} \\\\\n",
    "    & = y_0 + \\omega y_1 + \\omega^2 y_2 + \\omega^3 y_3 + \\omega^4 y_4 + \\omega^5 y_5 + \\omega^6 y_6 + \\omega^7 y_7 \\\\\n",
    "    & = \\underbrace{y_0 + \\omega^2 y_2 + \\omega^4 y_4 + \\omega^6 y_6}_{E_1^{(1, 0)}} \n",
    "        + \\omega\\underbrace{\\left(y_1 + \\omega^2 y_3 + \\omega^4 y_5 + \\omega^6 y_7\\right)}_{E_1^{(1, 1)}}   \n",
    "\\end{align*}"
   ]
  },
  {
   "cell_type": "markdown",
   "id": "33cc2c0f-45a6-455a-ad9a-6baa18563ed2",
   "metadata": {
    "slideshow": {
     "slide_type": "subslide"
    }
   },
   "source": [
    "* Split and multiplication count as one operation for us.\n",
    "* Very hard to actually figure out the exact number of ops quickly. Let's call this \"unit operation\", one that also happens in DFT for comparison: \n",
    "    **Bisection + multiplication = 1 operation**\n",
    "* Verify for yourself that eqn.\n",
    "$$E_k^{(m,j)} = \\sum_{p=0}^{N/2^m - 1}y_{2^m p + j}\\exp\\left(-i\\frac{2\\pi k p}{N/2^m}\\right), \\quad j \\in \\{0\\dots 2^m-1\\}$$\n",
    "    works here."
   ]
  },
  {
   "cell_type": "markdown",
   "id": "05b137a5-d6f3-46f9-9437-7e16214d9cea",
   "metadata": {
    "slideshow": {
     "slide_type": "subslide"
    }
   },
   "source": [
    "#### Second bisection\n",
    "\n",
    "Let's do a similar split for $E_1^{(1, 0)}$, for $j=0, 1$:\n",
    "\\begin{align*}\n",
    "    E_1^{(1, 0)} & = y_{0} + \\omega^2 y_{2} + \\omega^4 y_{4} + \\omega^6 y_{6} \\\\\n",
    "                 & = \\underbrace{y_{0} + \\omega^4 y_{4}}_{E_1^{(2, 0)}} \n",
    "        + \\omega^2\\underbrace{\\left(y_{2} +  \\omega^4 y_{6}\\right)}_{E_1^{(2, 2)}}   \n",
    "\\end{align*}\n",
    "Note how I \"skipped\" $E_1^{(2, 1)}$: that's because we reserve it for the split of $E_1^{(1, 1)}$.\n",
    "\\begin{align*}\n",
    "    E_1^{(1, 1)} & = \\underbrace{y_{1} + \\omega^4 y_{5}}_{E_1^{(2, 1)}} \n",
    "        + \\omega^2\\underbrace{\\left(y_{3} +  \\omega^4 y_{7}\\right)}_{E_1^{(2, 3)}}   \n",
    "\\end{align*}\n",
    "**Two bisections + multiplication = 2 operations**"
   ]
  },
  {
   "cell_type": "markdown",
   "id": "34b94ad6-6a34-44ab-86d6-dcc3a2dc73ab",
   "metadata": {
    "slideshow": {
     "slide_type": "subslide"
    }
   },
   "source": [
    "Or, in a shorter fashion,\n",
    "$$E_1^{(1, j)}  = \\underbrace{y_{j} + \\omega^4 y_{j+4}}_{E_1^{(2, j)}} + \\omega^2\\underbrace{\\left(y_{j+2} +  \\omega^4 y_{j+6}\\right)}_{E_1^{(2, j+2)}}.$$\n",
    "I could plug index $m$ to make it more systematic, which would give me the general formulas of the previous sub-section."
   ]
  },
  {
   "cell_type": "markdown",
   "id": "bf4bfc02-ec6c-4f5d-829f-2857f6a33948",
   "metadata": {
    "slideshow": {
     "slide_type": "subslide"
    }
   },
   "source": [
    "#### Third (and final) bisection\n",
    "Finally, we can split previous $E$'s in the last step:\n",
    "\\begin{align*}\n",
    "    E_1^{(2, 0)} & = y_0 + \\omega^4 y_{4} = E^{(3, 0)} + \\omega^4 E^{(3, 4)}\\\\\n",
    "    E_1^{(2, 1)} & = y_1 + \\omega^4 y_{5} = E^{(3, 1)} + \\omega^4 E^{(3, 5)}\\\\\n",
    "    E_1^{(2, 2)} & = y_2 + \\omega^4 y_{6} = E^{(3, 2)} + \\omega^4 E^{(3, 6)}\\\\\n",
    "    E_1^{(2, 3)} & = y_3 + \\omega^4 y_{7} = E^{(3, 3)} + \\omega^4 E^{(3, 7)},\n",
    "\\end{align*}\n",
    "\n",
    "* **Four bisections + multiplication = 4 operations**\n",
    "* More simply$E_1^{(3, j)} = y_j$.\n",
    "* We can use these 8 values of all $k$: actually connected to the $\\omega^{n+8}= \\omega^n$ property."
   ]
  },
  {
   "cell_type": "markdown",
   "id": "17634bb2-127f-47d3-b261-e07fbf4bd91f",
   "metadata": {
    "slideshow": {
     "slide_type": "subslide"
    }
   },
   "source": [
    "At this point: \n",
    "* $1+2+4 = 7$ operations, for 8 coefficients. $8\\times7 = 56$ operations.\n",
    "* Recall: I promised $N\\log_2N = 8\\times3 = 24$ ops. What is going on?\n",
    "* Recall DFT: $\\sim64$ operations (a little less actually, but not much).\n",
    "* Answer: we do not have to compute all $E_k^{(m, j)}$ for all $k$'s, because $\\omega^{n+8}=\\omega^n$. Kind of like I did for the last bisection: I was going to re-use the $E^{3, j}$ for all $k$'s, but something similar happens at all stages.\n",
    "* It is easier to see by actually doing it."
   ]
  },
  {
   "cell_type": "markdown",
   "id": "c69c7c4a-fd68-4d24-9f23-fcdfa86ce25f",
   "metadata": {
    "slideshow": {
     "slide_type": "subslide"
    }
   },
   "source": [
    "### Calculating the Fourier coefficients\n",
    "\n",
    "The FFT algorithm works backward from what I just showed.\n",
    "Which makes sense: we know the $y_j$'s, not the $\\gamma_k$'s.\n",
    "\n",
    "#### First step: start from the values\n",
    "* $m=M=3$,\n",
    "* $j=0, 1,\\dots 7$,\n",
    "* $\\forall k, \\quad E_k^{(3, j)} = E^{(3, j)} = y_j$ , \n",
    "* **Number of ops:** $(N/2^m = 1) \\times (2^m = 8) = 8 = N$.\n",
    "\n",
    "Note that these ar far less flop-consuming operations than the next steps, and they are common to both DFT and FFT. Therefore, we will not count these operations for simplicity."
   ]
  },
  {
   "cell_type": "markdown",
   "id": "a244b91f-a341-4a88-8ae4-3d0825095807",
   "metadata": {
    "slideshow": {
     "slide_type": "subslide"
    }
   },
   "source": [
    "#### Second step\n",
    "* $m=2, j=0, 1, 2, 3$\n",
    "* Compute the \"partial\" DFTs:\n",
    "    \\begin{align*}\n",
    "        & E_0^{(2, j)} = E^{(3, j)} + \\omega^{0\\times4}E^{(3, j+4)}= E^{(3, j)} + E^{(3, j+4)},\\\\\n",
    "        & E_1^{(2, j)} = E^{(3, j)} + \\omega^{1\\times4}E^{(3, j+4)} = E^{(3, j)} + \\omega^4 E^{(3, j+4)},\n",
    "    \\end{align*}\n",
    "    but we can actually stop after these $4\\times 2 = 8$ operations.\n",
    "    This is where we use the property that $\\omega^{n+8}=\\omega^n$: \n",
    "    \\begin{align*}\n",
    "        & E_2^{(2, j)} = E^{(3, j)} + \\omega^{2\\times4}E^{(3, j+4)} = E^{(3, j)} + \\underbrace{\\omega^8}_{=1} E^{(3, j+4)} = E_0^{(2, j)},\\\\\n",
    "        & E_3^{(2, j)} = E^{(3, j)} + \\omega^{3\\times4}E^{(3, j+4)} = E^{(3, j)} + \\underbrace{\\omega^{12}}_{=\\omega^4} E^{(3, j+4)} = E_1^{(2, j)},\n",
    "    \\end{align*}\n",
    "    and so on.\n",
    "    Thanks to the periodicity of $\\omega^{2^mk}$, we do not have to compute the values for all $k$'s, but instead, compute eight of them (one for each $j$, twice) and re-use them in a clever fashion.\n",
    "* **Number of ops:** $(N/2^m = 2) \\times (2^m = 4) = 8= N$\n",
    "    "
   ]
  },
  {
   "cell_type": "markdown",
   "id": "26b47a16-0a1e-4ebb-a86e-1c4fbd788bc5",
   "metadata": {
    "slideshow": {
     "slide_type": "subslide"
    }
   },
   "source": [
    "#### Third step\n",
    "* $m=1$, \n",
    "* $j=0, 1$,\n",
    "* Compute the \"partial\" DFTs:\n",
    "    \\begin{align*}\n",
    "        & E_0^{(1, j)} = E_0^{(2, j)} + \\omega^{0\\times2}E_0^{(2, j+2)}= E_0^{(2, j)} + E_0^{(2, j+2)},\\\\\n",
    "        & E_1^{(1, j)} = E_1^{(2, j)} + \\omega^{1\\times2}E_1^{(2, j+2)} = E_1^{(2, j)} + \\omega^2 E_1^{(2, j+4)},\\\\\n",
    "    \\end{align*}\n",
    "    and we can use the trick where we re-use the $E_0$'s and $E_1$'s of the previous step to compute:\n",
    "    \\begin{align*}\n",
    "        & E_2^{(1, j)} = E_0^{(2, j)} + \\omega^{2\\times2}E_0^{(2, j+2)}= E_0^{(2, j)} + \\omega^4 E_0^{(2, j+4)},\\\\\n",
    "        & E_3^{(1, j)} = E_1^{(2, j)} + \\omega^{3\\times2}E_1^{(2, j+2)} = E_1^{(2, j)} + \\omega^6 E_1^{(2, j+4)}.\n",
    "    \\end{align*}\n",
    "    We had to compute for twice as many $k$ indices, but for half as many $j$ indices.\n",
    "* **Number of ops:** $(N/2^m = 4) \\times (2^m = 2) = N$"
   ]
  },
  {
   "cell_type": "markdown",
   "id": "8ff14507-dd46-4140-83b6-13ed1d4c8843",
   "metadata": {
    "slideshow": {
     "slide_type": "subslide"
    }
   },
   "source": [
    "#### Last step: the coefficients\n",
    "* $m = 0$,\n",
    "* $j=0$,\n",
    "* We can now compute the DFT coefficients:\n",
    "    \\begin{align*}\n",
    "        & E_0^{(0, 0)} = c_0 = E_0^{(1, 0)} + \\omega^{0\\times1}E_0^{(1, 1)} = E_0^{(1, 0)} + E_0^{(1, 1)},\\\\\n",
    "        & E_1^{(0, 0)} = c_1 = E_1^{(1, 0)} + \\omega^{1\\times1}E_1^{(1, 1)} = E_1^{(1, 0)} + \\omega E_1^{(1, 0)},\\\\\n",
    "        & \\vdots\\\\\n",
    "        & E_7^{(0, 0)} = c_7 = E_1^{(3, j)} + \\omega^7 E_1^{(1, 1)}.\n",
    "    \\end{align*}\n",
    "* **Number of ops:** $(N/2^m = 8)\\times (2^m = 1) = N$.\n",
    "    \n",
    "For each step ($m=2, 1, 0$, because we said we weren't counting $m=3$), we had 8 operations. $8\\times 3=24 = 8\\log_2(8)$, as promised!"
   ]
  }
 ],
 "metadata": {
  "kernelspec": {
   "display_name": "Python 3 (ipykernel)",
   "language": "python",
   "name": "python3"
  },
  "language_info": {
   "codemirror_mode": {
    "name": "ipython",
    "version": 3
   },
   "file_extension": ".py",
   "mimetype": "text/x-python",
   "name": "python",
   "nbconvert_exporter": "python",
   "pygments_lexer": "ipython3",
   "version": "3.10.9"
  }
 },
 "nbformat": 4,
 "nbformat_minor": 5
}
