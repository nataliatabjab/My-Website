{
 "cells": [
  {
   "cell_type": "markdown",
   "metadata": {
    "slideshow": {
     "slide_type": "slide"
    }
   },
   "source": [
    "Lecture 9, topics:\n",
    "* Stability\n",
    "  * FTCS explicit\n",
    "  * FTCS implicit\n",
    "  * C-N\n",
    "* Verlet method\n",
    "* Spectral methods\n",
    "* Boundary Value Problems"
   ]
  },
  {
   "cell_type": "markdown",
   "metadata": {},
   "source": [
    "# Stability"
   ]
  },
  {
   "cell_type": "markdown",
   "metadata": {},
   "source": [
    "How can we determine stability in PDEs?\n",
    "\n",
    "Von Neumann Analysis: consider a single Fourier mode $k$, and see how it evolves."
   ]
  },
  {
   "cell_type": "markdown",
   "metadata": {},
   "source": [
    "## FTCS Explicit Method for Parabolic Equations"
   ]
  },
  {
   "cell_type": "markdown",
   "metadata": {
    "slideshow": {
     "slide_type": "slide"
    }
   },
   "source": [
    "Consider the diffusion equation:\n",
    "$$\\frac{\\partial T}{\\partial t} = \\kappa\\frac{\\partial^2 T}{\\partial x^2},$$\n",
    "Consider $T_m^n$ (spatial grid point $m$ with spacing $a$, timestep $n$ with interval $h$) as an inverse DFT: $\\quad\\displaystyle T_m^n = \\sum_k \\widehat T_k^n \\exp(i kx_m)$"
   ]
  },
  {
   "cell_type": "markdown",
   "metadata": {
    "slideshow": {
     "slide_type": "subslide"
    }
   },
   "source": [
    "$$T_m^{n+1} = T_m^n + \\frac{\\kappa h}{a^2}\\left(T_{m+1}^n - 2 T_m^n + T_{m-1}^n\\right)$$\n",
    "Then\n",
    "    $$\\widehat T_k^{n+1}\\text e^{i kam} = \\left(1 - \\frac{2\\kappa h }{a^2}\\right) \\widehat T_k^n\\text e^{i kam} + \\frac{\\kappa h}{a^2}\\left(\\widehat T_{k}^n\\text e^{i ka(m+1)} - \\widehat T_k^n \\text e^{i ka(m-1)}\\right)$$\n",
    "    $$\\Rightarrow \\left|\\frac{\\widehat T_k^{n+1}}{\\widehat T_k^n}\\right| = 1 + \\frac{\\kappa h}{a^2}\\left(\\text e^{i ka} + \\text e^{-i ka} - 2\\right) = \\left|1 - \\frac{4h\\kappa}{a^2}\\sin^2\\left(\\frac{ka}{2}\\right)\\right|.$$\n",
    "* This is the growth factor, and it should be less than unity if the solution is not meant to grow"
   ]
  },
  {
   "cell_type": "markdown",
   "metadata": {
    "slideshow": {
     "slide_type": "subslide"
    }
   },
   "source": [
    "Stability criterion:\n",
    "$$\\boxed{h \\leq \\frac{a^2}{2\\kappa}}. \\qquad\\textit{(independent of $k$!)}$$\n",
    "\n",
    "FTCS stable for the parabolic equation, provided temporal resolution is adequate ($a\\geq \\sqrt{2\\kappa h}$)."
   ]
  },
  {
   "cell_type": "markdown",
   "metadata": {},
   "source": [
    "## FTCS Explicit Method for Hyperbolic Equations"
   ]
  },
  {
   "cell_type": "markdown",
   "metadata": {
    "slideshow": {
     "slide_type": "slide"
    }
   },
   "source": [
    "* Consider the wave equation:\n",
    "$$\\frac{\\partial^2 \\phi}{\\partial t^2} = c^2\\frac{\\partial^2 \\phi}{\\partial x^2},$$\n",
    "\n",
    "* Discretize as set of ODEs:"
   ]
  },
  {
   "cell_type": "markdown",
   "metadata": {
    "slideshow": {
     "slide_type": "subslide"
    }
   },
   "source": [
    "\\begin{align*}\n",
    "\\phi_m^{n+1} & = \\phi_m^{n} + h\\psi_m^{n},\\\\\n",
    "\\psi_m^{n+1} & = \\psi_m^{n} + h\\frac{c^2}{a^2}\\left(\\phi_{m-1}^{n} + \\phi_{m+1}^{n} - 2\\phi_m^{n}\\right).\n",
    "\\end{align*}\n",
    "    or, equivalently:\n",
    "$$\n",
    "\\begin{bmatrix}\n",
    "    \\phi_m^{n+1} \\\\\n",
    "    \\psi_m^{n+1}\n",
    "\\end{bmatrix}\n",
    "= \n",
    "\\begin{bmatrix}\n",
    "    1 & h \\\\\n",
    "    -\\frac{2hc^2}{a^2} & 1\n",
    "\\end{bmatrix}\n",
    "\\begin{bmatrix}\n",
    "    \\phi_m^{n} \\\\\n",
    "    \\psi_m^{n}\n",
    "\\end{bmatrix}\n",
    "+\n",
    "\\begin{bmatrix}\n",
    "    0 \\\\\n",
    "    \\frac{c^2 h}{a^2}\\left(\\phi_{m+1}^n + \\phi_{m-1}^n\\right)\n",
    "\\end{bmatrix}\n",
    "$$"
   ]
  },
  {
   "cell_type": "markdown",
   "metadata": {
    "slideshow": {
     "slide_type": "subslide"
    }
   },
   "source": [
    "* Consider single Fourier mode,\n",
    "$\n",
    "\\begin{bmatrix}\n",
    "    \\phi_m^n \\\\\n",
    "    \\psi_m^n\n",
    "\\end{bmatrix}\n",
    "= \n",
    "\\begin{bmatrix}\n",
    "    \\widehat\\phi_k^{n} \\\\\n",
    "    \\widehat\\psi_k^{n}\n",
    "\\end{bmatrix}\\exp(i kma)\n",
    "$\n",
    "   . Obtain, after some algebra,\n",
    "$$\n",
    "\\begin{bmatrix}\n",
    "    \\widehat\\phi_k^{n+1} \\\\\n",
    "    \\widehat\\psi_k^{n+1}\n",
    "\\end{bmatrix}\n",
    "=\n",
    "\\mathbf A \\begin{bmatrix}\n",
    "    \\widehat\\phi_k^{n} \\\\\n",
    "    \\widehat\\psi_k^{n}\n",
    "\\end{bmatrix},$$\n",
    "$$\n",
    "\\text{with}\\quad \\mathbf A = \n",
    "\\begin{bmatrix}\n",
    "    1 & h \\\\\n",
    "    -hr^2 & 1\n",
    "\\end{bmatrix}\\quad \\text{and}\\quad\n",
    "r^2 = \\frac{2c}{a}\\sin\\frac{ka}{2},\n",
    "$$\n",
    "which **does** depend on $k$."
   ]
  },
  {
   "cell_type": "markdown",
   "metadata": {
    "slideshow": {
     "slide_type": "subslide"
    }
   },
   "source": [
    "* Eigenvalues of $\\mathbf A$ are $\\lambda_{1} = 1 + i hr$ and $\\lambda_{2} = 1 - i hr$,\n",
    " * therefore, $|\\lambda_\\pm|^2 = 1 + h^2 r^2 \\geq 1$.\n",
    "* Define corresponding eigenvectors $\\mathbf V_1$ and $\\mathbf V_2$, project initial condition on eigenvectors, i.e., write $\\alpha_1\\mathbf V_1 + \\alpha_2 \\mathbf V_2$.\n",
    "* After $p$ time steps, solution becomes $\\alpha_1\\lambda_1^p \\mathbf V_1 + \\alpha_2 \\lambda_2^p \\mathbf V_2$, which grows unbounded!\n",
    "\n",
    "**$\\Rightarrow$ FTCS always unstable for the wave equation!**"
   ]
  },
  {
   "cell_type": "markdown",
   "metadata": {},
   "source": [
    "## FTCS Implicit Method for Hyperbolic Equations"
   ]
  },
  {
   "cell_type": "markdown",
   "metadata": {
    "slideshow": {
     "slide_type": "subslide"
    }
   },
   "source": [
    "Using the implicit method for the wave equation, discretization gives:\n",
    "$$ \n",
    "\\begin{bmatrix}\n",
    "    \\phi_m^n \\\\\n",
    "    \\psi_m^n\n",
    "\\end{bmatrix}\n",
    "= \n",
    "\\begin{bmatrix}\n",
    "    1 & -h \\\\\n",
    "    +\\frac{2hc^2}{a^2} & 1\n",
    "\\end{bmatrix}\n",
    "\\begin{bmatrix}\n",
    "    \\phi_m^{n+1} \\\\\n",
    "    \\psi_m^{n+1}\n",
    "\\end{bmatrix}\n",
    "-\n",
    "\\begin{bmatrix}\n",
    "    0 \\\\\n",
    "    \\frac{c^2 h}{a^2}\\left(\\phi_{m+1}^{n+1} + \\phi_{m-1}^{n+1}\\right)\n",
    "\\end{bmatrix}\n",
    "$$\n",
    "\n",
    "If we do the Von Neumann substitution, $\\left(\\phi_m^n, \\psi_m^{n}\\right) = \\left(\\widehat \\phi_k^n, \\widehat \\psi_k^n\\right)\\exp(i kma)$, we get\n",
    "\n",
    "$$\n",
    "\\mathbf B\n",
    "\\begin{bmatrix}\n",
    "    \\widehat\\phi_k^{n+1} \\\\\n",
    "    \\widehat\\psi_k^{n+1}\n",
    "\\end{bmatrix}=\n",
    "\\begin{bmatrix}\n",
    "    \\widehat\\phi_k^{n} \\\\\n",
    "    \\widehat\\psi_k^{n}\n",
    "\\end{bmatrix}\n",
    "\\Rightarrow\n",
    "\\begin{bmatrix}\n",
    "    \\widehat\\phi_k^{n+1} \\\\\n",
    "    \\widehat\\psi_k^{n+1}\n",
    "\\end{bmatrix}\n",
    "=\n",
    "\\mathbf B^{-1}\n",
    "\\begin{bmatrix}\n",
    "    \\widehat\\phi_k^{n} \\\\\n",
    "    \\widehat\\psi_k^{n}\n",
    "\\end{bmatrix}.\n",
    "$$\n",
    "with:\n",
    "$$ \\mathbf B = \n",
    "\\begin{bmatrix}\n",
    "    1 & -h \\\\\n",
    "    hr^2 & 1\n",
    "\\end{bmatrix}, \n",
    "r = \\frac{2c}{a}\\sin\\frac{ka}{2}\n",
    "$$"
   ]
  },
  {
   "cell_type": "code",
   "execution_count": 14,
   "metadata": {
    "cell_style": "split",
    "slideshow": {
     "slide_type": "subslide"
    }
   },
   "outputs": [
    {
     "data": {
      "image/png": "[encoded data removed]",
      "text/latex": [
       "$\\displaystyle \\left[\\begin{matrix}1 & - h\\\\h r^{2} & 1\\end{matrix}\\right]$"
      ],
      "text/plain": [
       "⎡ 1    -h⎤\n",
       "⎢        ⎥\n",
       "⎢   2    ⎥\n",
       "⎣h⋅r   1 ⎦"
      ]
     },
     "execution_count": 14,
     "metadata": {},
     "output_type": "execute_result"
    }
   ],
   "source": [
    "from sympy import *\n",
    "init_printing()\n",
    "h, r = symbols('h, r', positive=True)\n",
    "B = Matrix([[1, -h], [h*r**2, 1]])\n",
    "B "
   ]
  },
  {
   "cell_type": "code",
   "execution_count": 15,
   "metadata": {
    "cell_style": "split",
    "slideshow": {
     "slide_type": "fragment"
    }
   },
   "outputs": [
    {
     "data": {
      "image/png": "[encoded data removed]",
      "text/latex": [
       "$\\displaystyle \\left[\\begin{matrix}\\frac{1}{h^{2} r^{2} + 1} & \\frac{h}{h^{2} r^{2} + 1}\\\\- \\frac{h r^{2}}{h^{2} r^{2} + 1} & \\frac{1}{h^{2} r^{2} + 1}\\end{matrix}\\right]$"
      ],
      "text/plain": [
       "⎡    1          h    ⎤\n",
       "⎢─────────  ─────────⎥\n",
       "⎢ 2  2       2  2    ⎥\n",
       "⎢h ⋅r  + 1  h ⋅r  + 1⎥\n",
       "⎢                    ⎥\n",
       "⎢      2             ⎥\n",
       "⎢  -h⋅r         1    ⎥\n",
       "⎢─────────  ─────────⎥\n",
       "⎢ 2  2       2  2    ⎥\n",
       "⎣h ⋅r  + 1  h ⋅r  + 1⎦"
      ]
     },
     "execution_count": 15,
     "metadata": {},
     "output_type": "execute_result"
    }
   ],
   "source": [
    "# inverse of B\n",
    "B**-1"
   ]
  },
  {
   "cell_type": "code",
   "execution_count": 16,
   "metadata": {
    "cell_style": "split",
    "slideshow": {
     "slide_type": "fragment"
    }
   },
   "outputs": [],
   "source": [
    "# eigenvalues as a list\n",
    "L = list((B**-1).eigenvals().keys())"
   ]
  },
  {
   "cell_type": "code",
   "execution_count": 17,
   "metadata": {
    "cell_style": "split",
    "scrolled": true,
    "slideshow": {
     "slide_type": "fragment"
    }
   },
   "outputs": [
    {
     "data": {
      "image/png": "[encoded data removed]",
      "text/latex": [
       "$\\displaystyle - \\frac{i \\left(h r + i\\right)}{h^{2} r^{2} + 1}$"
      ],
      "text/plain": [
       "-ⅈ⋅(h⋅r + ⅈ) \n",
       "─────────────\n",
       "   2  2      \n",
       "  h ⋅r  + 1  "
      ]
     },
     "execution_count": 17,
     "metadata": {},
     "output_type": "execute_result"
    }
   ],
   "source": [
    "# First eigenvalue\n",
    "L[0].factor()"
   ]
  },
  {
   "cell_type": "code",
   "execution_count": 18,
   "metadata": {
    "cell_style": "split",
    "slideshow": {
     "slide_type": "subslide"
    }
   },
   "outputs": [
    {
     "data": {
      "image/png": "[encoded data removed]",
      "text/latex": [
       "$\\displaystyle \\frac{1}{\\sqrt{h^{2} r^{2} + 1}}$"
      ],
      "text/plain": [
       "      1       \n",
       "──────────────\n",
       "   ___________\n",
       "  ╱  2  2     \n",
       "╲╱  h ⋅r  + 1 "
      ]
     },
     "execution_count": 18,
     "metadata": {},
     "output_type": "execute_result"
    }
   ],
   "source": [
    "# Magnitude of first eigenvalue\n",
    "abs(L[0].factor())"
   ]
  },
  {
   "cell_type": "code",
   "execution_count": 19,
   "metadata": {
    "cell_style": "split",
    "slideshow": {
     "slide_type": "fragment"
    }
   },
   "outputs": [
    {
     "data": {
      "image/png": "[encoded data removed]",
      "text/latex": [
       "$\\displaystyle \\frac{1}{\\sqrt{h^{2} r^{2} + 1}}$"
      ],
      "text/plain": [
       "      1       \n",
       "──────────────\n",
       "   ___________\n",
       "  ╱  2  2     \n",
       "╲╱  h ⋅r  + 1 "
      ]
     },
     "execution_count": 19,
     "metadata": {},
     "output_type": "execute_result"
    }
   ],
   "source": [
    "# Magnitude of 2nd eigenvalue\n",
    "abs(L[1].factor())"
   ]
  },
  {
   "cell_type": "markdown",
   "metadata": {
    "slideshow": {
     "slide_type": "subslide"
    }
   },
   "source": [
    "$$\\text{Recall}\\quad\n",
    "\\begin{bmatrix}\n",
    "    \\widehat\\phi_k^{m+1} \\\\\n",
    "    \\widehat\\psi_k^{m+1}\n",
    "\\end{bmatrix}\n",
    "=\n",
    "\\mathbf B^{-1}\n",
    "\\begin{bmatrix}\n",
    "    \\widehat\\phi_k^{m} \\\\\n",
    "    \\widehat\\psi_k^{m}\n",
    "\\end{bmatrix}.\n",
    "$$\n",
    "The eigenvalues of $\\mathbf B^{-1}$ are $$\\lambda_\\pm = \\frac{1\\pm ihr}{1+h^2r^2}, \\qquad |\\lambda_\\pm| = \\frac{1}{\\sqrt{1 + h^2r^2}} \\leq 1.$$\n",
    "\n",
    "* The eigenvalues are the growth factors and these are less than one.\n",
    "* So the implicit method is unconditionally stable, but solutions decay exponentially! \n",
    "* For the wave equation, all Fourier components of our solution (except k=0) die away... meaning the wave solution cannot propagate!"
   ]
  },
  {
   "cell_type": "markdown",
   "metadata": {},
   "source": [
    "## Crank-Nicolson Method for Hyperbolic Equations"
   ]
  },
  {
   "cell_type": "markdown",
   "metadata": {
    "slideshow": {
     "slide_type": "slide"
    }
   },
   "source": [
    "Using C-N method for wave equation, discretization gives:\n",
    "$$ \n",
    "\\phi_m^{n+1} - \\frac{h}2\\psi_m^{n+1} = \\phi_m^{n} + \\frac{h}2\\psi_m^{n}\n",
    "$$\n",
    "$$ \\psi_m^{n+1} - \\frac{h}2\\frac{c^2}{a^2}\\left(\\phi_{m-1}^{n+1} + \\phi_{m+1}^{n+1} - 2\\phi_m^{n+1}\\right) = \\psi_m^{n} + \\frac{h}2\\frac{c^2}{a^2}\\left(\\phi_{m-1}^{n} + \\phi_{m+1}^{n} - 2\\phi_m^{n}\\right).\n",
    "$$"
   ]
  },
  {
   "cell_type": "markdown",
   "metadata": {
    "slideshow": {
     "slide_type": "subslide"
    }
   },
   "source": [
    "If we do the Von Neumann substitution, $\\left(\\phi_m^n, \\psi_m^n\\right) = \\left(\\widehat \\phi_k^n, \\widehat \\psi_k^n\\right)\\exp(i kma)$, we get\n",
    "\n",
    "$$\\mathbf{B'}\n",
    "\\begin{bmatrix}\n",
    "    \\widehat\\phi_m^{n+1} \\\\\n",
    "    \\widehat\\psi_m^{n+1}\n",
    "\\end{bmatrix}\n",
    "=\n",
    "\\mathbf{A'}\n",
    "\\begin{bmatrix}\n",
    "    \\widehat\\phi_m^{n} \\\\\n",
    "    \\widehat\\psi_m^{n}\n",
    "\\end{bmatrix},\n",
    "$$\n",
    "or \n",
    "$$\n",
    "\\begin{bmatrix}\n",
    "    \\widehat\\phi_m^{n+1} \\\\\n",
    "    \\widehat\\psi_m^{n+1}\n",
    "\\end{bmatrix}\n",
    "=\n",
    "\\mathbf{B'^{-1}A'}\n",
    "\\begin{bmatrix}\n",
    "    \\widehat\\phi_m^{n} \\\\\n",
    "    \\widehat\\psi_m^{n},\n",
    "\\end{bmatrix}\n",
    "$$\n",
    "with\n",
    "$$\n",
    "\\mathbf{B'^{-1}A'}\n",
    "= \\frac{a}{1 + h^2 r'^2}\n",
    "\\begin{bmatrix}\n",
    "    1 - h^2 r'^2 & 2 h \\\\\n",
    "    -2hr'^2 & 1-h^2r'^2\n",
    "\\end{bmatrix},\n",
    "\\quad r' = \\frac{c}{a}\\sin\\frac{ka}{2}\n",
    "$$"
   ]
  },
  {
   "cell_type": "markdown",
   "metadata": {
    "slideshow": {
     "slide_type": "subslide"
    }
   },
   "source": [
    "Growth factors of Crank-Nicolson are eigenvalues of $\\mathbf{B^{-1}A}$:\n",
    "$$\\lambda_\\pm = \\frac{1 \\pm 2ihr' - h^2 r'^2}{1 + h^2 r'^2},\\quad \\boxed{|\\lambda_\\pm| = 1}.$$\n",
    "\n",
    "Growth factors are one, so the solution neither grows nor decays."
   ]
  },
  {
   "cell_type": "markdown",
   "metadata": {},
   "source": [
    "# Verlet Method"
   ]
  },
  {
   "cell_type": "markdown",
   "metadata": {
    "jp-MarkdownHeadingCollapsed": true,
    "slideshow": {
     "slide_type": "slide"
    },
    "tags": []
   },
   "source": [
    "\n",
    "* Guaranteed time-reversible and energy-conserving method for the special case of two coupled ODEs, with LHS and RHS having separated variables\n",
    "* e.g. Newton's 2nd law for conservative forces:\n",
    "$$\\frac {d^2 x}{dt^2} = \\frac{F(x)}m \\quad \\Rightarrow \\quad \\frac{dx}{dt} = v\\quad \\text{and}\\quad \\frac{dv}{dt} = \\frac{F(x)}{m}.$$\n",
    "1st ODE: $x$ on LHS, $v$ on RHS; 2nd ODE: $v$ on LHS, $x$ on RHS.\n",
    "\n",
    "First, take an Euler step:\n",
    "$$\\color{blue}{v\\left(t+\\frac{h}{2}\\right)} = v(t) + \\frac{h}{2} \\frac{F(x(t))}{m}$$\n",
    "\n",
    "Then, for all subsequent timesteps:\n",
    "$$\\color{green}{x(t+h)} = x(t) + h \\color{blue}{v\\left(t+ \\frac{h}2\\right)},$$\n",
    "$$v(t+h) = \\color{blue}{v \\left( t + \\frac{h}{2} \\right)} +  \\frac{h}{2} \\frac{F(x(t+h))}{m} $$\n",
    "$$\\color{blue}{v\\left(t+\\frac{3}{2}h\\right)} = \\color{blue}{v\\left(t + \\frac{h}2\\right)} +  h \\frac{F(x(t+h))}{m}$$"
   ]
  },
  {
   "cell_type": "markdown",
   "metadata": {
    "slideshow": {
     "slide_type": "subslide"
    }
   },
   "source": [
    "* It's a 2-variable leapfrog-based method, at half the cost of leapfrog\n",
    "* If diagnostics (like energy) are needed at specific time steps, we need the $\\color{blue}{\\text{half-step quantities}} $"
   ]
  },
  {
   "cell_type": "markdown",
   "metadata": {},
   "source": [
    "# Spectral Methods"
   ]
  },
  {
   "cell_type": "markdown",
   "metadata": {
    "slideshow": {
     "slide_type": "slide"
    }
   },
   "source": [
    "For linear PDEs:\n",
    "\n",
    "* Find yourself a set of orthogonal functions forming a basis of your function space\n",
    "* Use transforms to express trial solution and its derivative(s) in this basis, with unknown coefficients\n",
    "  * Remember, any linear combination of solutions is also itself a solution\n",
    "* Use transforms to project initial conditions onto that basis, and use them to determine the coefficients\n",
    "* Use inverse transforms to directly obtain the solution at any specified coordinates (e.g. at any time $t$, without stepping through all the previous time-steps)\n",
    "\n",
    "\n",
    "Features:\n",
    "* Particularly useful with large sets of coupled PDEs, for which just one elliptic PDE can be the main bottleneck of a non-spectral implementation\n",
    "* Very accurate\n",
    "* But inflexible when it comes to domain shape."
   ]
  },
  {
   "cell_type": "markdown",
   "metadata": {},
   "source": [
    "## Basis of function space"
   ]
  },
  {
   "cell_type": "markdown",
   "metadata": {
    "slideshow": {
     "slide_type": "subslide"
    }
   },
   "source": [
    "Examples of \"set of orthogonal functions forming a basis of your function space\":\n",
    "\n",
    " * $\\sin(n\\pi x/L)$, $n\\in \\mathbb N$ if quantity is zero at boundaries (assuming $x=0$, $L$ are the boundaries) or function is odd w.r.t. midline of domain (assuming $x=0$ at midline),\n",
    " * $\\cos(n\\pi x/L)$, $n\\in \\mathbb N$ if quantity has zero derivatives at boundaries (assuming $x=0$, $L$ are the boundaries) or function is even w.r.t. midline of domain (assuming $x=0$ at midline),\n",
    " * $\\exp(i n\\pi x/L)$, $n\\in \\mathbb N$ if quantity is periodic,\n",
    " * Chebyshev polynomials for more flexible combinations of boundary conditions or non-periodic, closed domains,\n",
    " * Hermite polynomials on the $(-\\infty, \\infty)$ real line,\n",
    " * Laguerre polynomials on the $(0, \\infty)$ real half-line"
   ]
  },
  {
   "cell_type": "markdown",
   "metadata": {
    "slideshow": {
     "slide_type": "subslide"
    }
   },
   "source": [
    "We focus on $\\sin$/$\\cos$/$\\exp$ bases, sometimes called \"Fourier spectral methods\"\n",
    "\n",
    "* $\\ominus$ large down-payment cost of computing FFTs\n",
    "* $\\oplus$ large return on investment: gives you the solution at any times without stepping through previous times\n",
    "  * e.g. elliptic PDEs can be solved without the need of an iterative solver like relaxation method\n",
    "* $\\oplus$ numerical stability\n",
    "* $\\ominus$ difficult or impossible to implement in complicated geometries.\n",
    "* $\\ominus$ problematic for non-linear equations"
   ]
  },
  {
   "cell_type": "markdown",
   "metadata": {
    "slideshow": {
     "slide_type": "subslide"
    }
   },
   "source": [
    "e.g. for elliptic PDEs:\n",
    "$$\\frac{\\partial^2 \\phi}{\\partial x^2} + \\frac{\\partial^2 \\phi}{\\partial y^2} = \\rho;$$\n",
    "$$\\binom{\\phi}{\\rho} = \\sum_i\\sum_j \\binom{\\widehat\\phi_{ij}}{\\widehat\\rho_{ij}}\\exp(i(k_ix + \\ell_jy)),$$\n",
    "$$\\text{Use orthogonality to project } \\Rightarrow \\widehat\\phi_{ij} = -\\frac{\\widehat\\rho_{ij}}{k_i^2 + \\ell_j^2}$$\n",
    "and you are just one iFFT away from getting the solution $\\Rightarrow$ no need to use an iterative solver!"
   ]
  },
  {
   "cell_type": "markdown",
   "metadata": {},
   "source": [
    "## Practical implementation in sin/cos/exp basis"
   ]
  },
  {
   "cell_type": "markdown",
   "metadata": {
    "slideshow": {
     "slide_type": "slide"
    }
   },
   "source": [
    "$$f = \\sum_{n=-\\infty}^{\\infty} \\hat f_n \\exp(i k_n x) \\Rightarrow \\frac{\\partial f}{\\partial x} = \\sum_{n=-\\infty}^{\\infty} i k_n \\hat f_n \\exp(i k_n x),$$\n",
    "or, in shorthand,\n",
    "$$\\frac{\\partial f}{\\partial x} \\to i k_n\\hat f_n, \\quad \\frac{\\partial^2 f}{\\partial x^2} \\to -k_n^2\\hat f_n$$\n",
    "\n",
    "Next are a couple of examples of how to express functions and their derivatives in sin/cos/exp basis"
   ]
  },
  {
   "cell_type": "markdown",
   "metadata": {
    "slideshow": {
     "slide_type": "subslide"
    }
   },
   "source": [
    "### First derivative\n",
    "\n",
    "$$ f(x) = \\exp \\left( \\frac{-(x-L/2)^2}{\\Delta^2} \\right) $$"
   ]
  },
  {
   "cell_type": "code",
   "execution_count": 1,
   "metadata": {
    "slideshow": {
     "slide_type": "subslide"
    }
   },
   "outputs": [],
   "source": [
    "# Based on derivative_fft.py\n",
    "import numpy as np\n",
    "import matplotlib.pyplot as plt\n",
    "from numpy.fft import rfft, irfft\n",
    "\n",
    "#define function and its derivative\n",
    "def f(x):\n",
    "    return np.exp(-(x-L/2)**2/Delta**2)\n",
    "def dfdx(x):\n",
    "    return -2*(x-L/2)/Delta**2*np.exp(-(x-L/2)**2/Delta**2)\n",
    "\n",
    "# define problem parameters\n",
    "L = 2.0\n",
    "Delta = 0.1\n",
    "nx = 200\n",
    "\n",
    "# define x, f(x), f'(x)\n",
    "x = np.arange(0, L, L/nx)\n",
    "farr = f(x)\n",
    "farr_derivative = dfdx(x)"
   ]
  },
  {
   "cell_type": "code",
   "execution_count": 3,
   "metadata": {
    "slideshow": {
     "slide_type": "subslide"
    }
   },
   "outputs": [],
   "source": [
    "# now do the same thing spectrally:\n",
    "fhat = rfft(farr)  # fourier transform\n",
    "karray = np.arange(nx/2+1)*2*np.pi/L  # define k\n",
    "fhat_derivative = complex(0, 1)*karray*fhat  # define ik*fhat\n",
    "f_derivative_fft = irfft(fhat_derivative)  # and transform back"
   ]
  },
  {
   "cell_type": "code",
   "execution_count": 5,
   "metadata": {
    "slideshow": {
     "slide_type": "subslide"
    }
   },
   "outputs": [
    {
     "data": {
      "image/png": "[encoded data removed]",
      "text/plain": [
       "<Figure size 600x400 with 1 Axes>"
      ]
     },
     "metadata": {
      "needs_background": "light"
     },
     "output_type": "display_data"
    }
   ],
   "source": [
    "plt.figure(dpi=100)\n",
    "plt.plot(x, farr, label='$f$')\n",
    "plt.plot(x, farr_derivative, label='$df/dx$, analytic')\n",
    "plt.plot(x, f_derivative_fft, '--', label='$df/dx$ with FFT')\n",
    "plt.legend(loc=3)\n",
    "plt.xlabel('x')\n",
    "plt.grid()\n",
    "plt.tight_layout()\n",
    "plt.show()"
   ]
  },
  {
   "cell_type": "markdown",
   "metadata": {
    "slideshow": {
     "slide_type": "subslide"
    }
   },
   "source": [
    "### Second derivative\n",
    "\n",
    "$$ f = \\sin(x) - 2\\sin(4x) + 3\\sin(5x) - 4\\sin(6x)$$"
   ]
  },
  {
   "cell_type": "code",
   "execution_count": 2,
   "metadata": {
    "slideshow": {
     "slide_type": "subslide"
    }
   },
   "outputs": [
    {
     "name": "stdout",
     "output_type": "stream",
     "text": [
      "Original series: f = sin(x) - 2sin(4x) + 3sin(5x) - 4sin(6x)\n",
      "Coefficient of sin(0x): 0.00e+00\n",
      "Coefficient of sin(1x): 1.00e+00\n",
      "Coefficient of sin(2x): -4.58e-17\n",
      "Coefficient of sin(3x): -5.64e-16\n",
      "Coefficient of sin(4x): -2.00e+00\n",
      "Coefficient of sin(5x): 3.00e+00\n",
      "Coefficient of sin(6x): -4.00e+00\n"
     ]
    }
   ],
   "source": [
    "import numpy as np\n",
    "from dcst import dst, idst, dct, idct  # From Newman's dcst.py\n",
    "\n",
    "N = 256\n",
    "x = np.arange(N)*np.pi/N  # x = pi*n/N\n",
    "farr = np.sin(x) - 2*np.sin(4*x) + 3*np.sin(5*x) - 4*np.sin(6*x)  # function is a sine series\n",
    "fCoeffs = dst(farr)  # do fourier sine series\n",
    "print('Original series: f = sin(x) - 2sin(4x) + 3sin(5x) - 4sin(6x)')\n",
    "for j in range(7):\n",
    "    print('Coefficient of sin({0}x): {1:.2e}'.format(j, fCoeffs[j]/N))"
   ]
  },
  {
   "cell_type": "code",
   "execution_count": 3,
   "metadata": {
    "slideshow": {
     "slide_type": "subslide"
    }
   },
   "outputs": [],
   "source": [
    "# Below: 2nd derivative also a sine series\n",
    "d2f_dx2_a = -np.sin(x) + 32*np.sin(4*x) - 75*np.sin(5*x) + 144*np.sin(6*x)\n",
    "\n",
    "# 2nd derivative using Fourier transform\n",
    "DerivativeCoeffs = -np.arange(N)**2*fCoeffs  \n",
    "d2f_dx2_b = idst(DerivativeCoeffs)"
   ]
  },
  {
   "cell_type": "code",
   "execution_count": 12,
   "metadata": {
    "cell_style": "center",
    "slideshow": {
     "slide_type": "subslide"
    }
   },
   "outputs": [
    {
     "data": {
      "image/png": "[encoded data removed]",
      "text/plain": [
       "<Figure size 600x400 with 1 Axes>"
      ]
     },
     "metadata": {
      "needs_background": "light"
     },
     "output_type": "display_data"
    }
   ],
   "source": [
    "plt.figure(dpi=100)\n",
    "plt.plot(x, d2f_dx2_a, label='analytic')\n",
    "plt.plot(x, d2f_dx2_b, '--', label='with DST')\n",
    "plt.xlabel('x')\n",
    "plt.legend()\n",
    "plt.grid()\n",
    "plt.show()"
   ]
  },
  {
   "cell_type": "markdown",
   "metadata": {},
   "source": [
    "# Boundary Value Problems"
   ]
  },
  {
   "cell_type": "markdown",
   "metadata": {},
   "source": [
    "A combination of ODE-solving and root-finding"
   ]
  },
  {
   "cell_type": "markdown",
   "metadata": {},
   "source": [
    "## Shooting method"
   ]
  },
  {
   "cell_type": "markdown",
   "metadata": {
    "slideshow": {
     "slide_type": "slide"
    }
   },
   "source": [
    "* Suppose we want to choose an initial velocity $v_0$ for a projectile to land after a certain elapsed time (e.g. $t_L = 10$ s), where the projectile obeys Newton's 2nd Law:\n",
    "$$\\frac {d^2 x}{dt^2} = \\frac{F(x)}m \\quad \\Rightarrow \\quad \\frac{dx}{dt} = v\\quad \\text{and}\\quad \\frac{dv}{dt} = \\frac{F(x)}{m}.$$\n",
    "* $x(v_0, t)$ is a nonlinear function of $v_0$, and finding $x(v_0, t=t_L)$ can be done using root finding method (binary search, secant...)\n",
    "* **Shooting method:** integrate the equations and adjust $v_0$ until you locate root."
   ]
  },
  {
   "cell_type": "markdown",
   "metadata": {
    "cell_style": "split",
    "slideshow": {
     "slide_type": "subslide"
    }
   },
   "source": [
    "![Newman fig. 8.11](fig8-11.png)"
   ]
  },
  {
   "cell_type": "markdown",
   "metadata": {},
   "source": [
    "## Eigenvalue Problems"
   ]
  },
  {
   "cell_type": "markdown",
   "metadata": {
    "cell_style": "split",
    "slideshow": {
     "slide_type": "subslide"
    },
    "tags": []
   },
   "source": [
    "$$-\\frac{\\hbar}{2 m}\\frac{d^2\\psi}{dx^2} + V(x)\\psi = E\\psi,$$\n",
    "$$\\psi(x=0) = \\psi(x=L) = 0.$$\n",
    "\n",
    "* Shooting method does not work for finding wavefunctions that satisfy two boundary conditions, as in QM square well, except for valid eigenvalues $E$.\n",
    "* So for these problems, eigenvalue $E$ is the parameter that must be varied, instead of the boundary values (e.g. slope of $\\psi$ at the leftmost end or rightmost end of the domain)"
   ]
  },
  {
   "cell_type": "code",
   "execution_count": null,
   "metadata": {},
   "outputs": [],
   "source": []
  }
 ],
 "metadata": {
  "celltoolbar": "Slideshow",
  "kernelspec": {
   "display_name": "Python 3 (ipykernel)",
   "language": "python",
   "name": "python3"
  },
  "language_info": {
   "codemirror_mode": {
    "name": "ipython",
    "version": 3
   },
   "file_extension": ".py",
   "mimetype": "text/x-python",
   "name": "python",
   "nbconvert_exporter": "python",
   "pygments_lexer": "ipython3",
   "version": "3.11.9"
  }
 },
 "nbformat": 4,
 "nbformat_minor": 4
}
