{
 "cells": [
  {
   "cell_type": "markdown",
   "id": "098ad455-0a0c-4770-b84d-25bc951d3466",
   "metadata": {},
   "source": [
    "# Comparing methods for a simple ODE"
   ]
  },
  {
   "cell_type": "markdown",
   "id": "3dff43de-a9b4-4446-8c42-22dcc73112f3",
   "metadata": {},
   "source": [
    "## Exercise 1"
   ]
  },
  {
   "cell_type": "markdown",
   "id": "91538571-0c7b-4503-820c-538ec76813f5",
   "metadata": {
    "slideshow": {
     "slide_type": "slide"
    }
   },
   "source": [
    "Use Euler's Method to solve for $x(t)$ given\n",
    "$$ \\frac{\\text d x}{\\text d t} = -x^3(t) + \\sin(t) $$\n",
    "from 0 to 10 seconds, with initial condition $x(t=0) = 0$.\n",
    "\n",
    "Try with 20 time-steps, and again with 1000 time-steps. Plot the results, on the same graph."
   ]
  },
  {
   "cell_type": "markdown",
   "id": "f4ddfb90-1e81-4e64-b385-3aa6d605eb7b",
   "metadata": {},
   "source": [
    "## Exercise 2"
   ]
  },
  {
   "cell_type": "markdown",
   "id": "ce56b40e-f115-4645-a600-96430a885b70",
   "metadata": {},
   "source": [
    "Repeat Exercise 1 using RK2."
   ]
  },
  {
   "cell_type": "markdown",
   "id": "d3f07efc-15cf-48dd-b119-baee7bc60608",
   "metadata": {
    "tags": []
   },
   "source": [
    "## Exercise 3"
   ]
  },
  {
   "cell_type": "markdown",
   "id": "54eb163d-e205-49e6-a00e-5d4dcedd6082",
   "metadata": {},
   "source": [
    "Repeat Exercise 1 using RK4."
   ]
  },
  {
   "cell_type": "markdown",
   "id": "c7562c37-0a7a-451c-b4e6-b74acdf436f2",
   "metadata": {
    "tags": []
   },
   "source": [
    "## Exercise 4"
   ]
  },
  {
   "cell_type": "markdown",
   "id": "7d52a6f2-5707-4fb0-91ba-0f4546510299",
   "metadata": {
    "tags": []
   },
   "source": [
    "Repeat Exercise 1 using Bulirsch-Stoer, with error tolerance 1e-08. You may copy-and-paste code from the textbook's 'bulirsch.py' to help you."
   ]
  },
  {
   "cell_type": "markdown",
   "id": "7c751cbc-9859-4336-b3fb-03a4c8f473ce",
   "metadata": {
    "tags": []
   },
   "source": [
    "## Exercise 5"
   ]
  },
  {
   "cell_type": "markdown",
   "id": "add76a6f-e35f-4e50-8c0f-b0c11a719e11",
   "metadata": {},
   "source": [
    "Repeat Exercise 1 using scipy.integrate.odeint"
   ]
  },
  {
   "cell_type": "markdown",
   "id": "986b07a1-1a2a-406d-a44d-728a6d2e54f9",
   "metadata": {
    "tags": []
   },
   "source": [
    "## Exercise 6"
   ]
  },
  {
   "cell_type": "markdown",
   "id": "5828add8-0576-48ea-b629-faea055fc984",
   "metadata": {},
   "source": [
    "Plot your Exercise 1 through 5 results for $N=20$, on the same graph.\n",
    "\n",
    "Plot your Exercise 1 through 5 results for $N=1000$, on the same graph. \n",
    "\n",
    "(So you should have 2 graphs for this exercise.)"
   ]
  },
  {
   "cell_type": "markdown",
   "id": "9525cfa1-b68a-46b4-a7aa-b150959277ad",
   "metadata": {},
   "source": [
    "# Stability of ODE Solutions"
   ]
  },
  {
   "cell_type": "markdown",
   "id": "9403037b-c622-4909-8f5d-05bbf2265eff",
   "metadata": {
    "tags": []
   },
   "source": [
    "* We have focused on accuracy and speed in investigating our solutions to ODEs.\n",
    "* But stability is also important!\n",
    "* The stability of solutions tells us how fast initially close solutions diverge from each other.\n",
    "* In other words, a stable solution tends to a finite number.\n",
    "* Some systems are inherently unstable and so will always be challenging to simulate. Physical stability or instability of a system can be determined from small perturbations to a solution of the ODE.\n",
    "* But even for physically stable systems, numerical methods can be unstable (i.e. give approximation and roundoff errors that grow)."
   ]
  },
  {
   "cell_type": "markdown",
   "id": "360bd869-72d0-47ea-8bdd-2e76bb8edc34",
   "metadata": {},
   "source": [
    "## Exercise 7"
   ]
  },
  {
   "cell_type": "markdown",
   "id": "992e0888-d0e9-4155-9e41-5fdb1e485dab",
   "metadata": {
    "slideshow": {
     "slide_type": "subslide"
    }
   },
   "source": [
    "Consider: $y'(t) = -2.3y(t), y(t=0) = 1$\n",
    "\n",
    "The analytical solution is:\n",
    "$y(t) = \\exp (-2.3 t)$ . This is a stable solution, i.e. it tends to a finite number: $y \\rightarrow 0$ as $t \\rightarrow \\infty$\n",
    "\n",
    "Demonstrate (by making 2 plots) that computationally, the Euler method for the interval $0 < t < 20$ is stable for $h=0.7$ but unstable for $h=1$."
   ]
  },
  {
   "cell_type": "code",
   "execution_count": null,
   "id": "1581420b-d3f9-4859-99e6-4c6effcae150",
   "metadata": {},
   "outputs": [],
   "source": []
  }
 ],
 "metadata": {
  "kernelspec": {
   "display_name": "Python 3 (ipykernel)",
   "language": "python",
   "name": "python3"
  },
  "language_info": {
   "codemirror_mode": {
    "name": "ipython",
    "version": 3
   },
   "file_extension": ".py",
   "mimetype": "text/x-python",
   "name": "python",
   "nbconvert_exporter": "python",
   "pygments_lexer": "ipython3",
   "version": "3.10.9"
  }
 },
 "nbformat": 4,
 "nbformat_minor": 5
}
