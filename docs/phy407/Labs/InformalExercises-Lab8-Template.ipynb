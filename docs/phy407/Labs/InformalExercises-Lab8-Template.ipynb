{
 "cells": [
  {
   "cell_type": "markdown",
   "id": "0e10d8d1-00b8-48e3-822e-fdeb275d3372",
   "metadata": {},
   "source": [
    "# Spectral Methods for Hyperbolic Equations"
   ]
  },
  {
   "cell_type": "markdown",
   "id": "5fff2494-31da-4745-a0e7-f9d6ac6656d9",
   "metadata": {},
   "source": [
    "## Review from Last Week: Wave Equation"
   ]
  },
  {
   "cell_type": "markdown",
   "id": "f23c5633-bc13-4139-a088-6beea115f263",
   "metadata": {},
   "source": [
    "Recall from last week the 1D wave equation:\n",
    "$$ \\frac{\\partial^2\\phi}{\\partial t^2}=v^2\\frac{\\partial^2\\phi}{\\partial x^2} $$\n",
    "  \n",
    "We considered a piano string of length $L$, initially at rest. At time $t=0$ the string is struck by the piano hammer a distance $d$ from the end of from the string. The string vibrates as a result of being struck, except at the ends, $x=0$, and $x=L$, where it is held fixed."
   ]
  },
  {
   "cell_type": "markdown",
   "id": "905dca4d-580c-4df8-a630-5a05fbff0a84",
   "metadata": {},
   "source": [
    "We considered the case $v=100\\mathrm{ms^{-1}}$, with the initial condition that $\\phi(x)=0$ everywhere but the velocity $\\psi(x)$ is nonzero, with profile\n",
    "\\begin{equation}\n",
    "  \\psi(x) = C\\frac{x(L-x)}{L^2}\\exp\\left[-\\frac{(x-d)^2}{2\\sigma^2}\\right],\n",
    "\\end{equation}\n",
    "where $L=1$m, $d=10$cm, $C=1\\mathrm{ms^{-1}}$, and $\\sigma=0.3$m. "
   ]
  },
  {
   "cell_type": "markdown",
   "id": "db261bcb-a036-4b15-b3a4-6eb671acc65e",
   "metadata": {},
   "source": [
    "## New This Week"
   ]
  },
  {
   "cell_type": "markdown",
   "id": "4f111853-7b34-420d-a931-6f188af012da",
   "metadata": {
    "tags": []
   },
   "source": [
    "Now, we can expand the  initial conditions in terms of a Fourier sine series:\n",
    "$$ \\phi_0(x)=\\sum_{k=1}^{\\infty}\\tilde\\phi_{0,k}\\sin\\left(\\frac{k\\pi x}L\\right)$$\n",
    "$$ \\psi_0(x)=\\sum_{k=1}^{\\infty}\\tilde{\\psi}_{0,k}\\sin\\left(\\frac{k\\pi x}L\\right)$$\n",
    "Note  that all the terms in this series vanish at $x=0$ and $x=L$, automatically satisfying the boundary conditions for $\\phi$, and similarly for $\\psi$."
   ]
  },
  {
   "cell_type": "markdown",
   "id": "e261cd1d-ef1d-40dc-abe2-29b5d4225971",
   "metadata": {},
   "source": [
    "We can show, the general solution in terms of the Fourier series is:\n",
    "$$ \\phi(x,t)=\\sum_{k=1}^{\\infty}\\sin\\left(\\frac{k\\pi x}L\\right)\\left[\\tilde\\phi_{0,k}\\cos(\\omega_kt)+\\frac{\\tilde{\\psi}_{0,k}}{\\omega_k}\\sin(\\omega_kt)\\right] $$\n",
    " * By substitution:\n",
    "$$  v^2\\frac{\\partial^2\\phi(x,t)}{\\partial x^2}=-\\sum_{k=1}^{\\infty}(vk\\pi/L)^2\\sin(k\\pi x/L)\\left[\\tilde\\phi_{0,k}\\cos(\\omega_kt)+\\frac{\\tilde{\\psi}_{0,k}}{\\omega_k}\\sin(\\omega_kt)\\right]\n",
    "$$ \n",
    "and\n",
    "$$ \\frac{\\partial ^2\\phi(x,t)}{\\partial t^2}=-\\sum_{k=1}^{\\infty}(\\omega_k)^2\\sin(k\\pi x/L)\\left[\\tilde\\phi_{0,k}\\cos(\\omega_kt)+\\frac{\\tilde{\\psi}_{0,k}}{\\omega_k}\\sin(\\omega_kt)\\right]$$\n",
    " * This requires, to satisfy the wave equation, that for each $k$:\n",
    "    $$\\omega_k^2 = (vk\\pi/L)^2.$$ \n",
    " * At $t=0$:\n",
    "$$ \\phi_0(x)=\\sum_{k=1}^{\\infty}\\sin(k\\pi x/L)\\tilde\\phi_{0,k},\\ \\psi_0(x)=\\sum_{k=1}^{\\infty}\\sin(k\\pi x/L)\\tilde{\\psi}_{0,k}\n",
    "$$\n",
    "    as required, thus the solution satisfies the initial conditions. Furthermore the solution automatically satisfies the boundary conditions since $sin(k\\pi x/L)$ vanishes at the $x=0$ and $x=L$ for all integer $k$."
   ]
  },
  {
   "cell_type": "markdown",
   "id": "c3cf2e46-8418-4abc-b546-72a49471563a",
   "metadata": {},
   "source": [
    "## Exercise 1"
   ]
  },
  {
   "cell_type": "markdown",
   "id": "cbd064a8-7c59-4a7a-a1a8-bbc428b3515c",
   "metadata": {},
   "source": [
    "Use a series solution like this, but truncated at a finite $N$, to repeat Exercise 6 from last week. In case you forgot: \n",
    "**Solve from times 0 to 0.1s, and make a plot of $\\phi$ vs $x$ over the entire length of string at each of the following times:**\n",
    "* 0.006 s\n",
    "* 0.004 s\n",
    "* 0.002 s\n",
    "* 0.012 s\n",
    "* 0.100 s\n",
    "\n",
    "You can afford to use a large $N$, since you should only have to do one Fourier transform. You may use packaged Fourier functions such as numpy.fft.rfft, numpy.fft.irfft . You can even use functions from the textbook's dcst.py file."
   ]
  },
  {
   "cell_type": "markdown",
   "id": "20837e73-1dae-4916-8ced-0ae7224b3423",
   "metadata": {},
   "source": [
    "# Boundary Value Problem Example: Shooting Method for Projectile Motion"
   ]
  },
  {
   "cell_type": "markdown",
   "id": "9b2ee85d-7845-411a-ad6c-b276bf7b8d05",
   "metadata": {
    "slideshow": {
     "slide_type": "slide"
    }
   },
   "source": [
    "Suppose we want to choose an initial velocity $v_0$ for a projectile, thrown straight upward, to land after a certain elapsed time $t_L = 10$ s, where the projectile obeys Newton's 2nd Law:\n",
    "$$\\frac {d^2 y}{dt^2} = \\frac{F(y)}m \\quad \\Rightarrow \\quad \\frac{dy}{dt} = v\\quad \\text{and}\\quad \\frac{dv}{dt} = \\frac{F(y)}{m}.$$\n",
    "Take the gravitational constant to be $g = 9.81 m/s^2$"
   ]
  },
  {
   "cell_type": "markdown",
   "id": "713d3d25-92a7-4d95-a4b2-d9bde2d42b91",
   "metadata": {},
   "source": [
    "## Exercise 2"
   ]
  },
  {
   "cell_type": "markdown",
   "id": "b5b3f6d0-96ad-4597-a6d9-ebe1a5d4f6cf",
   "metadata": {},
   "source": [
    "Write code to integrate the equations, using RK4, from time $t=0$ to $t=t_L$ to find $y$ of the projectile at $t=t_L$. It should be a function of $v_0$. Assume the projectile starts at $y=0$ at $t=0$.\n",
    "\n",
    "Hint: keep track of both $y$ and $v$. At each timestep of the RK4 algorithm, you need to invoke a function that encodes the change in $y$ and the change in $v$. The number of timesteps should be a parameter that you can set."
   ]
  },
  {
   "cell_type": "markdown",
   "id": "5da29cdf-c95a-4ed8-a60a-19a6357fbb68",
   "metadata": {},
   "source": [
    "## Exercise 3"
   ]
  },
  {
   "cell_type": "markdown",
   "id": "0b5b7311-aff5-4fec-ae52-172fddfda1be",
   "metadata": {},
   "source": [
    "Write code that performs a binary search to find the initial value of velocity, $v_0$, that gives us $y=0$ (with target accuracy 1e-8) at $t = t_L$. Invoke the code from the previous exercise (try 1000 RK4 steps) at each step of the search."
   ]
  },
  {
   "cell_type": "markdown",
   "id": "4703db4d-c386-4b26-adc7-356f4323ed40",
   "metadata": {},
   "source": [
    "# Verlet Method Example: Orbit Calculation"
   ]
  },
  {
   "cell_type": "markdown",
   "id": "78c897f3-8067-49ac-9ea8-074210fc2d1a",
   "metadata": {},
   "source": [
    "The position $r(x,y)$ of Earth in its orbital plane can be approximately described by: $$\\frac{d^2 \\mathbf r}{d t^2} = \\frac{-G M \\mathbf r}{r^3} $$\n",
    "where $M = 1.9891 \\times 10^{30}$ (mass of Sun in kg). You can import $G$ from scipy.constants"
   ]
  },
  {
   "cell_type": "code",
   "execution_count": 1,
   "id": "9a333412-1e58-4126-86ca-1fec03b89b71",
   "metadata": {},
   "outputs": [],
   "source": [
    "from scipy.constants import G"
   ]
  },
  {
   "cell_type": "markdown",
   "id": "c0efcd30-8c3e-4a09-8879-9ee97d269eb2",
   "metadata": {},
   "source": [
    "Note, when Earth is at its closest point to the Sun (perihilion):\n",
    "* its direction of motion is perpendicular to the line between itself and the Sun\n",
    "* $r = 1.471 \\times 10^{11}$ m\n",
    "* linear velocity $v = 3.0287 \\times 10^4$ m/s"
   ]
  },
  {
   "cell_type": "markdown",
   "id": "32cc8227-7420-488d-89b5-4a09018d8fcc",
   "metadata": {},
   "source": [
    "## Exercise 4"
   ]
  },
  {
   "cell_type": "markdown",
   "id": "d9e2fcae-7669-4cf7-9053-0f50dde90f6f",
   "metadata": {},
   "source": [
    "Write a program to calculate Earth's position using Verlet method, with timestep $h$ = 1 hour, over 5 years. \n",
    "\n",
    "You probably want to keep track of $x$ and $y$ separately (similarly $v_x$ and $v_y$), and calculate $r = \\sqrt{x^2+y^2}$. \n",
    "\n",
    "Define the x, y axes as: Earth starts at perihelion, along x>0, with positive velocity along y axis"
   ]
  },
  {
   "cell_type": "markdown",
   "id": "8d062611-81aa-4f48-a410-e1da80ebff97",
   "metadata": {},
   "source": [
    "## Exercise 5"
   ]
  },
  {
   "cell_type": "markdown",
   "id": "892100a9-51ee-41b1-bbb2-21827854595b",
   "metadata": {},
   "source": [
    "Plot $y$ vs $x$ over the 5 years. This should draw over an orbit 5 times; the orbit should be slightly, but visibly, non-circular. Make the plot in units of AU = Astronomical Unit = average Earth-Sun distance."
   ]
  },
  {
   "cell_type": "code",
   "execution_count": 1,
   "id": "103a8a1c-81b4-4359-855b-56e0e312b170",
   "metadata": {},
   "outputs": [],
   "source": [
    "from scipy.constants import au"
   ]
  }
 ],
 "metadata": {
  "kernelspec": {
   "display_name": "Python 3 (ipykernel)",
   "language": "python",
   "name": "python3"
  },
  "language_info": {
   "codemirror_mode": {
    "name": "ipython",
    "version": 3
   },
   "file_extension": ".py",
   "mimetype": "text/x-python",
   "name": "python",
   "nbconvert_exporter": "python",
   "pygments_lexer": "ipython3",
   "version": "3.11.9"
  }
 },
 "nbformat": 4,
 "nbformat_minor": 5
}
