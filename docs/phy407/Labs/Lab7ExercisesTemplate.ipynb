{
 "cells": [
  {
   "cell_type": "markdown",
   "id": "95737d32-3c19-412f-a00c-4231bf759946",
   "metadata": {},
   "source": [
    "# Elliptic Example: 2D Laplacian"
   ]
  },
  {
   "cell_type": "markdown",
   "id": "6225c56b-3947-4d1e-87fc-9f934be23c28",
   "metadata": {},
   "source": [
    "We want to model the electric potential for an empty 2D box, 10cm x 10cm in size, where the top wall is held at $V$ = 1.0V and the other walls at 0V.\n",
    "\n",
    "$$0 = \\nabla^2 \\phi  = \\frac{\\partial^2 \\phi}{\\partial x^2} + \\frac{\\partial^2 \\phi}{\\partial y^2},$$\n",
    "$$ \\phi(y = 10) = 1.0 V$$\n",
    "$$ \\phi(y = 0) = \\phi(x = 0) = \\phi(x = 10) = 0$$"
   ]
  },
  {
   "cell_type": "markdown",
   "id": "e22394b8-0aeb-4657-a1db-04c0d457e223",
   "metadata": {},
   "source": [
    "![](fig9-2.png)"
   ]
  },
  {
   "cell_type": "markdown",
   "id": "22d1f834-6a10-4bfe-b3e0-8a4ed17123e6",
   "metadata": {},
   "source": [
    "## Exercise 1"
   ]
  },
  {
   "cell_type": "markdown",
   "id": "520dbea0-42b7-4df4-9c2e-0aba281f3bb2",
   "metadata": {},
   "source": [
    "Setup up the problem: \n",
    "* discretize space in x and y, using an MxM grid\n",
    "* implement the boundary conditions\n",
    "\n",
    "Then use Jacobi Relaxation to solve it, with target accuracy 1e-04 and M=10. Print the number of iterations required to reach the target accuracy.\n",
    "\n",
    "You can consult the textbook's `laplace.py` for help."
   ]
  },
  {
   "cell_type": "markdown",
   "id": "ed4643fb-384f-4958-9515-f7473cdc9ca6",
   "metadata": {},
   "source": [
    "## Exercise 2\n",
    "\n",
    "Plot the solution (you can use matplotlib.pyplot.imshow)"
   ]
  },
  {
   "cell_type": "markdown",
   "id": "afc0c158-9b98-481d-89b1-d806f43701bb",
   "metadata": {},
   "source": [
    "## Exercise 3\n",
    "\n",
    "Now repeat Exercises 1 and 2 with M=100. Do you notice a difference in runtime?"
   ]
  },
  {
   "cell_type": "markdown",
   "id": "fa30a1c8-ed5d-4794-94ab-9f826ca31a93",
   "metadata": {},
   "source": [
    "# Hyperbolic Example: Wave Equation"
   ]
  },
  {
   "cell_type": "markdown",
   "id": "c14c96e4-c899-4980-955a-29ae1c2ecb40",
   "metadata": {},
   "source": [
    "Recall the 1D wave equation:\n",
    "$$ \\frac{\\partial^2\\phi}{\\partial t^2}=v^2\\frac{\\partial^2\\phi}{\\partial x^2} $$\n",
    "Consider a piano string of length $L$, initially at rest. At time $t=0$ the string is struck by the piano hammer a distance $d$ from the end of from the string. The string vibrates as a result of being struck, except at the ends, $x=0$, and $x=L$, where it is held fixed."
   ]
  },
  {
   "cell_type": "markdown",
   "id": "3f09ccb8-3f2a-4de3-8307-2865e6514381",
   "metadata": {},
   "source": [
    "Consider the case $v=100\\mathrm{ms^{-1}}$, with the initial condition that $\\phi(x)=0$ everywhere but the velocity $\\psi(x)$ is nonzero, with profile\n",
    "\\begin{equation}\n",
    "  \\psi(x) = C\\frac{x(L-x)}{L^2}\\exp\\left[-\\frac{(x-d)^2}{2\\sigma^2}\\right],\n",
    "\\end{equation}\n",
    "where $L=1$m, $d=10$cm, $C=1\\mathrm{ms^{-1}}$, and $\\sigma=0.3$m. "
   ]
  },
  {
   "cell_type": "markdown",
   "id": "f88b1e47-83dd-4dab-ab70-4b87df21cfcf",
   "metadata": {
    "tags": []
   },
   "source": [
    "## Exercise 4"
   ]
  },
  {
   "cell_type": "markdown",
   "id": "f0cfe64d-33ae-401d-a739-23443dcf7648",
   "metadata": {},
   "source": [
    "Solve using the FTCS method, with grid spacing (in $x$) $a=5$ mm, from times 0 to 0.1s using time--step $h=10^{-6}$ s.\n",
    "Make a plot of $\\phi$ vs $x$ over the entire length of string, at each of the following times:\n",
    "* 0.006 s\n",
    "* 0.004 s\n",
    "* 0.002 s\n",
    "* 0.012 s\n",
    "* 0.100 s\n",
    "\n",
    "You'll see your first 4 plots look good, then the instability of the solution shows up!"
   ]
  },
  {
   "cell_type": "markdown",
   "id": "d71158df-c9b4-4835-8bff-057faeeaaeff",
   "metadata": {},
   "source": [
    "## Exercise 5"
   ]
  },
  {
   "cell_type": "markdown",
   "id": "74cd57b8-afc7-4eae-8263-901600991214",
   "metadata": {},
   "source": [
    "Repeat the previous exercise using the Crank--Nicolson method. Use a larger time--step, $h = 10^{-4}$ s.\n",
    "\n",
    "You'll see the solution is stable. It dies out to 0 at about 0.1 s, but this is how the physical system is supposed to behave!"
   ]
  },
  {
   "cell_type": "markdown",
   "id": "d5e50a02-d8b3-47a9-8ac4-4218798e5def",
   "metadata": {},
   "source": [
    "the CN method involves a set of simultaneous equations, one for each grid point. We can solve using the methods for linear systems in Chapter 6 -- in particular, banded matrix. The following snippets of code will help you define the matrix, and the vector to use on the right-hand side, of the CK equations."
   ]
  },
  {
   "cell_type": "code",
   "execution_count": 13,
   "id": "b06fab58-73ce-4bf8-a84c-c81a7463913e",
   "metadata": {
    "tags": []
   },
   "outputs": [],
   "source": [
    "def matrix(N,alpha):\n",
    "    \"\"\"Banded matrix for the Crank-Nicolson\n",
    "    Args: \n",
    "        N : number of elements\n",
    "        alpha = 2*h*v**2/a**2 , h: timestep length, a: spatial grid spacing, v: wave speed\"\"\"\n",
    "    bands = np.zeros((3,N+2))\n",
    "    bands[0,:-2] = -alpha\n",
    "    bands[2,1:-1] = -alpha\n",
    "    bands[1,:] = 1+2*alpha\n",
    "    return bands \n",
    "\n",
    "def banded(Aa,va,up=1,down=1):\n",
    "# from textbook online resources, to solve Ax = v\n",
    "# Aa is banded matrix A, va is vector v, up and down give band positions in matrix\n",
    "\n",
    "    # Copy the inputs and determine the size of the system\n",
    "    A = np.copy(Aa)\n",
    "    v = np.copy(va)\n",
    "    N = len(v)\n",
    "\n",
    "    # Gaussian elimination\n",
    "    for m in range(N):\n",
    "\n",
    "        # Normalization factor\n",
    "        div = A[up,m]\n",
    "\n",
    "        # Update the vector first\n",
    "        v[m] /= div\n",
    "        for k in range(1,down+1):\n",
    "            if m+k<N:\n",
    "                v[m+k] -= A[up+k,m]*v[m]\n",
    "\n",
    "        # Now normalize the pivot row of A and subtract from lower ones\n",
    "        for i in range(up):\n",
    "            j = m + up - i\n",
    "            if j<N:\n",
    "                A[i,j] /= div\n",
    "                for k in range(1,down+1):\n",
    "                    A[i+k,j] -= A[up+k,m]*A[i,j]\n",
    "\n",
    "    # Backsubstitution\n",
    "    for m in range(N-2,-1,-1):\n",
    "        for i in range(up):\n",
    "            j = m + up - i\n",
    "            if j<N:\n",
    "                v[m] -= A[i,j]*v[j]\n",
    "\n",
    "    return v"
   ]
  },
  {
   "cell_type": "code",
   "execution_count": null,
   "id": "4a22acc2-2891-446a-b01d-e4a8af4f9e1a",
   "metadata": {},
   "outputs": [],
   "source": [
    "def rhs(phi, psi, alpha,h):\n",
    "    \"\"\"Solve the Right hand side of the Crank-Nicolson algorithm.\n",
    "    Args:\n",
    "        phi, psi : position and velocity\n",
    "        alpha = 2*h*v**2/a**2,\n",
    "        h=dt, timestep\n",
    "    \n",
    "    Returns:\n",
    "    the column vector for the right hand side.\n",
    "    \"\"\"\n",
    "    r = np.zeros_like(phi)\n",
    "    r[1:-1] = (h*psi[1:-1] + \n",
    "               alpha * phi[:-2] +\n",
    "               (1-2*alpha)*phi[1:-1] + \n",
    "               alpha * phi[2:])\n",
    "    return r"
   ]
  }
 ],
 "metadata": {
  "kernelspec": {
   "display_name": "Python 3 (ipykernel)",
   "language": "python",
   "name": "python3"
  },
  "language_info": {
   "codemirror_mode": {
    "name": "ipython",
    "version": 3
   },
   "file_extension": ".py",
   "mimetype": "text/x-python",
   "name": "python",
   "nbconvert_exporter": "python",
   "pygments_lexer": "ipython3",
   "version": "3.11.9"
  }
 },
 "nbformat": 4,
 "nbformat_minor": 5
}
