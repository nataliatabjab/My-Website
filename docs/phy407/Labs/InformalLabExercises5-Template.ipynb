{
 "cells": [
  {
   "cell_type": "markdown",
   "id": "fc0f7d81-475c-4b2f-b243-7bd9e4d52719",
   "metadata": {},
   "source": [
    "## Fourier Transforms Example: Light Switch"
   ]
  },
  {
   "cell_type": "markdown",
   "id": "9ba85552-f7d2-473c-923c-cb5c8c5b5da4",
   "metadata": {
    "slideshow": {
     "slide_type": "subslide"
    }
   },
   "source": [
    "Suppose we turn a light switch at $t=t_0-\\tau/2$, and turn it off at $t=t_0+\\tau/2$. We treat $\\tau$ and $t_0$ as constant parameters. The light emitted during this interval has average frequency $\\nu_0$, also a constant parameter.\n",
    "\n",
    "The electric field (complex number!) emitted is:\n",
    "$$E = E_0\\text e^{-2 i\\pi \\nu_0 t}\\quad \\text{if}\\quad t_0 - \\frac\\tau2\\leq t\\leq t_0 + \\frac\\tau2,\\qquad E = 0\\quad\\text{otherwise}.$$\n",
    "\n",
    "Apply the Fourier Transform formula to get the field in \"frequency space\", i.e. as a function of frequency $\\nu$ rather than time $t$.\n",
    "$$\\hat E = \\int_{t_0-\\tau/2}^{t_0+\\tau/2} E(t)\\text e^{2\\pi i (\\nu-\\nu_0) t} \\text d \\nu = E_0\\tau \\text e^{2\\pi i (\\nu-\\nu_0) t_0}\\underbrace{\\frac{\\sin\\left[\\pi(\\nu-\\nu_0)\\tau\\right]}{\\pi(\\nu-\\nu_0)\\tau}}_{=\\text{sinc}\\left[(\\nu-\\nu_0)\\tau\\right]},$$\n",
    "where $\\text{sinc}$ is called the Cardinal sine function."
   ]
  },
  {
   "cell_type": "markdown",
   "id": "ec928480-4972-4935-9869-81c4be06948c",
   "metadata": {},
   "source": [
    "Let's use parameters: $\\tau = 1s,~t_0 = 10s,~\\nu_0=5$ Hz"
   ]
  },
  {
   "cell_type": "markdown",
   "id": "d16f7ca5-dc5e-4762-a340-7b05017efa83",
   "metadata": {},
   "source": [
    "### Exercise 1"
   ]
  },
  {
   "cell_type": "markdown",
   "id": "2443097a-5a91-49cc-ab33-0aa3e9e0afe2",
   "metadata": {},
   "source": [
    "Calculate and plot the mormalized real part of the field, $Re(E) / E_0$, from $t_0 - \\frac\\tau2\\leq t\\leq t_0 + \\frac\\tau2$. Hint: when discretizing time, try using 4096 values."
   ]
  },
  {
   "cell_type": "markdown",
   "id": "66af5aa2-ce0b-4c67-b03b-cd14bbedacee",
   "metadata": {},
   "source": [
    "### Exercise 2"
   ]
  },
  {
   "cell_type": "markdown",
   "id": "976b123b-1257-4195-ae00-c9ff2c801183",
   "metadata": {},
   "source": [
    "Now calculate, using the formula given (not using a packaged routine), the Fourier transform of the signal, i.e. $\\hat{E}(\\nu)$, for $0 \\leq \\nu \\leq \\nu_0$. Make two plots: $Re(\\hat{E}) / (E_0 \\tau)$ as a function of $\\nu$, and $|\\hat{E}| / (E_0 \\tau) $ as a function of $\\nu$. The second plot, which shows normalized amplitudes, is called the spectrum of the signal."
   ]
  },
  {
   "cell_type": "markdown",
   "id": "ab701364-5958-48a4-8643-f33310a7ef89",
   "metadata": {
    "slideshow": {
     "slide_type": "subslide"
    }
   },
   "source": [
    "Note:\n",
    "* Spectrum is centred around $\\nu=\\nu_0$, but non-negligible width (i.e. not all the light has frequency exactly $\\nu_0$.) So the plane wave approximation doesn't exactly hold.\n",
    "* If you increase duration or increase frequency: spectrum is narrower around $\\nu=\\nu_0$, and you have a better plane wave approximation.\n",
    "* If you shorten duration or decrease frequency (e.g. pulsed laser): the frequency spreads out. (See https://www.nobelprize.org/prizes/physics/2023/press-release/ , Nobel Prize for attosecond lasers)\n",
    "* Bandwidth theorem:\n",
    "    $$\\tau\\Delta\\nu \\approx 1$$\n",
    "    *You may recognize something like Heisenberg's uncertainty principle!*"
   ]
  },
  {
   "cell_type": "markdown",
   "id": "c6dc88e0-b145-4550-adce-0e6b7d616f41",
   "metadata": {
    "slideshow": {
     "slide_type": "slide"
    },
    "tags": []
   },
   "source": [
    "## DFT Example: Pitch (Sound) Timeseries\n",
    "\n",
    "Adapted from textbook's online material."
   ]
  },
  {
   "cell_type": "markdown",
   "id": "820e76ff-5193-475c-90ba-e0c1d23418b1",
   "metadata": {},
   "source": [
    "### Exercise 3"
   ]
  },
  {
   "cell_type": "markdown",
   "id": "e4e56790-2f73-477e-bd60-4d734dd243e5",
   "metadata": {},
   "source": [
    "Using numpy.loadtxt, read in the text file \"pitch.txt\" provided. The values are floats. \n",
    "\n",
    "The file represents a \"time series\" of samples of the pitch of a sound wave, i.e. the next value in the series represents the pitch at the next sample. The samples are taken at a frequency of 44100 Hz.\n",
    "\n",
    "Make a plot of pitch (arbitrary units) vs time."
   ]
  },
  {
   "cell_type": "markdown",
   "id": "fc91aa2d-2d62-4880-9be6-947cd6bf6eea",
   "metadata": {},
   "source": [
    "### Exercise 4"
   ]
  },
  {
   "cell_type": "markdown",
   "id": "cca2e01f-6426-4ac8-b7b8-89e56dd2d67c",
   "metadata": {},
   "source": [
    "Perform a Discrete Fourier Transform on the time series (the following code snippet from the textbook will help you). Using time.time, measure how long the transform takes. \n",
    "\n",
    "Plot the amplitudes (i.e. magnitudes) of the Fourier coefficients."
   ]
  },
  {
   "cell_type": "code",
   "execution_count": 8,
   "id": "77fdf10f-08f1-4241-86a5-4975821a9756",
   "metadata": {
    "slideshow": {
     "slide_type": "subslide"
    },
    "tags": []
   },
   "outputs": [],
   "source": [
    "import numpy as np\n",
    "def dft(y):\n",
    "    N = len(y)\n",
    "    c = np.zeros(N//2+1, complex)\n",
    "    for k in range(N//2+1):\n",
    "        for n in range(N):\n",
    "            c[k] += y[n]*np.exp(-2j*np.pi*k*n/N)\n",
    "    return c"
   ]
  },
  {
   "cell_type": "markdown",
   "id": "148c2680-7795-439b-b229-2f8b2d31ae39",
   "metadata": {},
   "source": [
    "## FFT Example: De-Noising a Signal"
   ]
  },
  {
   "cell_type": "markdown",
   "id": "97c73844-99b5-4b7d-a474-242b816fff4f",
   "metadata": {},
   "source": [
    "### Exercise 5"
   ]
  },
  {
   "cell_type": "markdown",
   "id": "b037e688-317e-4597-9309-ea5cd9d319b5",
   "metadata": {},
   "source": [
    "Repeat Exercise 4, but using numpy.fft.rfft instead of the dft code snippet from the textbook. Which algorithm is faster, and by how much? How close are the transform results?"
   ]
  },
  {
   "cell_type": "markdown",
   "id": "14f51bd8-0833-4260-b9af-7e0d8a293a34",
   "metadata": {},
   "source": [
    "### Exercise 6"
   ]
  },
  {
   "cell_type": "markdown",
   "id": "241405a3-05b3-4715-a7ea-5a4bf7e4f8ce",
   "metadata": {
    "slideshow": {
     "slide_type": "subslide"
    }
   },
   "source": [
    "We now seek to \"de-noise\" the signal. We will treat the three highest-amplitude frequencies as our \"signal\" which we want to isolate, and everything else as the \"noise\" which we want to eliminate. \n",
    "\n",
    "Convert the Fourier coefficients to frequencies by dividing them by $T$ (the total length of the time interval covered by the time series.) Now you should have an array of frequencies and an array of corresponding amplitudes.\n",
    "\n",
    "Sort the frequencies by amplitude (you can use numpy.argsort if you like). Print the three \"signal\" frequencies, and their corresponding amplitudes."
   ]
  },
  {
   "cell_type": "markdown",
   "id": "6ecc9365-cce6-4fc4-9327-8c01513772bd",
   "metadata": {
    "tags": []
   },
   "source": [
    "### Exercise 7"
   ]
  },
  {
   "cell_type": "markdown",
   "id": "749033de-4c1b-4eb6-ac7f-b3838d79acb9",
   "metadata": {
    "slideshow": {
     "slide_type": "subslide"
    },
    "tags": []
   },
   "source": [
    "Now we will isolate the \"noise\".\n",
    "\n",
    "Create a copy of the array of amplitudes (use numpy.copy). In the copy, zero out the largest three amplitudes (which you identified in the previous exercise). Inverse-transform the result, using np.fft.irfft, to get an array of pitch values. Plot it vs time."
   ]
  },
  {
   "cell_type": "markdown",
   "id": "dc9166e6-712f-40f7-964e-0866e821a44b",
   "metadata": {},
   "source": [
    "### Exercise 8"
   ]
  },
  {
   "cell_type": "markdown",
   "id": "bd43ad87-6f05-4cf5-915d-837992957024",
   "metadata": {
    "slideshow": {
     "slide_type": "subslide"
    }
   },
   "source": [
    "Finally, let's plot the signal, i.e. the data with the noise subtracted out. Subtract your Exercise 7 array of pitch values from your original (Exercise 3) array of pitch values. Plot the result vs time.\n",
    "\n",
    "Does the plot look a lot different from the results of Exercise 3?"
   ]
  }
 ],
 "metadata": {
  "kernelspec": {
   "display_name": "Python 3 (ipykernel)",
   "language": "python",
   "name": "python3"
  },
  "language_info": {
   "codemirror_mode": {
    "name": "ipython",
    "version": 3
   },
   "file_extension": ".py",
   "mimetype": "text/x-python",
   "name": "python",
   "nbconvert_exporter": "python",
   "pygments_lexer": "ipython3",
   "version": "3.11.9"
  }
 },
 "nbformat": 4,
 "nbformat_minor": 5
}
